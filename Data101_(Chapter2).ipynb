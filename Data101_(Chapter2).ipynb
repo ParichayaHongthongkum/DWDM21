{
  "nbformat": 4,
  "nbformat_minor": 0,
  "metadata": {
    "colab": {
      "name": "Data101 (Chapter2).ipynb",
      "provenance": [],
      "authorship_tag": "ABX9TyM7WD1qee1bmBrsEHFXsjOO",
      "include_colab_link": true
    },
    "kernelspec": {
      "name": "python3",
      "display_name": "Python 3"
    },
    "language_info": {
      "name": "python"
    }
  },
  "cells": [
    {
      "cell_type": "markdown",
      "metadata": {
        "id": "view-in-github",
        "colab_type": "text"
      },
      "source": [
        "<a href=\"https://colab.research.google.com/github/ParichayaHongthongkum/DWDM21/blob/main/Data101_(Chapter2).ipynb\" target=\"_parent\"><img src=\"https://colab.research.google.com/assets/colab-badge.svg\" alt=\"Open In Colab\"/></a>"
      ]
    },
    {
      "cell_type": "markdown",
      "metadata": {
        "id": "2KnsKuInz03P"
      },
      "source": [
        "ข้อความที่อยู่ใน textbox จะเป็นภาษา markdow"
      ]
    },
    {
      "cell_type": "markdown",
      "metadata": {
        "id": "RChaAF4qtrEU"
      },
      "source": [
        "ข้อดีหนึ่งของ Python คือมี package สำหรับทำงานต่างๆมากมาย\n",
        "\n",
        "ซึ่ง pandas เป็น package สำหรับการทำงานกับข้อมูลที่อยู่ในรููปแบบตาราง\n",
        "\n",
        "โย pandas จะเรียกตารางนั้นว่า dataframe"
      ]
    },
    {
      "cell_type": "code",
      "metadata": {
        "id": "1AEDKgaur4sj"
      },
      "source": [
        "import pandas # วิธีเรียกใช้ package คือ import ตามด้วยชื่อ package"
      ],
      "execution_count": null,
      "outputs": []
    },
    {
      "cell_type": "code",
      "metadata": {
        "id": "N7iccW6StBLd"
      },
      "source": [
        "import pandas as pd # เหมือนกับข้างบนแต่ ตั้งชื่อให้ package ที่โหลดมาใหม่ว่า pd"
      ],
      "execution_count": null,
      "outputs": []
    },
    {
      "cell_type": "markdown",
      "metadata": {
        "id": "VLT7j1o0utok"
      },
      "source": [
        "ไฟล์ .csv (csv = comma separated values) เป็นไฟล์หลักที่เก็บข้อมูลตารางที่จะใช้กันในวิชานี้  \n",
        "\n"
      ]
    },
    {
      "cell_type": "code",
      "metadata": {
        "id": "pdBHRsW9uip9",
        "colab": {
          "base_uri": "https://localhost:8080/",
          "height": 372
        },
        "outputId": "97c6fad3-313b-42a1-8853-05bec8f5f560"
      },
      "source": [
        "data_df = pd.read_csv('data.csv')"
      ],
      "execution_count": null,
      "outputs": [
        {
          "output_type": "error",
          "ename": "FileNotFoundError",
          "evalue": "ignored",
          "traceback": [
            "\u001b[0;31m---------------------------------------------------------------------------\u001b[0m",
            "\u001b[0;31mFileNotFoundError\u001b[0m                         Traceback (most recent call last)",
            "\u001b[0;32m<ipython-input-9-3c6ae9713f57>\u001b[0m in \u001b[0;36m<module>\u001b[0;34m()\u001b[0m\n\u001b[0;32m----> 1\u001b[0;31m \u001b[0mdata_df\u001b[0m \u001b[0;34m=\u001b[0m \u001b[0mpd\u001b[0m\u001b[0;34m.\u001b[0m\u001b[0mread_csv\u001b[0m\u001b[0;34m(\u001b[0m\u001b[0;34m'data.csv'\u001b[0m\u001b[0;34m)\u001b[0m\u001b[0;34m\u001b[0m\u001b[0;34m\u001b[0m\u001b[0m\n\u001b[0m",
            "\u001b[0;32m/usr/local/lib/python3.7/dist-packages/pandas/io/parsers.py\u001b[0m in \u001b[0;36mread_csv\u001b[0;34m(filepath_or_buffer, sep, delimiter, header, names, index_col, usecols, squeeze, prefix, mangle_dupe_cols, dtype, engine, converters, true_values, false_values, skipinitialspace, skiprows, skipfooter, nrows, na_values, keep_default_na, na_filter, verbose, skip_blank_lines, parse_dates, infer_datetime_format, keep_date_col, date_parser, dayfirst, cache_dates, iterator, chunksize, compression, thousands, decimal, lineterminator, quotechar, quoting, doublequote, escapechar, comment, encoding, dialect, error_bad_lines, warn_bad_lines, delim_whitespace, low_memory, memory_map, float_precision)\u001b[0m\n\u001b[1;32m    686\u001b[0m     )\n\u001b[1;32m    687\u001b[0m \u001b[0;34m\u001b[0m\u001b[0m\n\u001b[0;32m--> 688\u001b[0;31m     \u001b[0;32mreturn\u001b[0m \u001b[0m_read\u001b[0m\u001b[0;34m(\u001b[0m\u001b[0mfilepath_or_buffer\u001b[0m\u001b[0;34m,\u001b[0m \u001b[0mkwds\u001b[0m\u001b[0;34m)\u001b[0m\u001b[0;34m\u001b[0m\u001b[0;34m\u001b[0m\u001b[0m\n\u001b[0m\u001b[1;32m    689\u001b[0m \u001b[0;34m\u001b[0m\u001b[0m\n\u001b[1;32m    690\u001b[0m \u001b[0;34m\u001b[0m\u001b[0m\n",
            "\u001b[0;32m/usr/local/lib/python3.7/dist-packages/pandas/io/parsers.py\u001b[0m in \u001b[0;36m_read\u001b[0;34m(filepath_or_buffer, kwds)\u001b[0m\n\u001b[1;32m    452\u001b[0m \u001b[0;34m\u001b[0m\u001b[0m\n\u001b[1;32m    453\u001b[0m     \u001b[0;31m# Create the parser.\u001b[0m\u001b[0;34m\u001b[0m\u001b[0;34m\u001b[0m\u001b[0;34m\u001b[0m\u001b[0m\n\u001b[0;32m--> 454\u001b[0;31m     \u001b[0mparser\u001b[0m \u001b[0;34m=\u001b[0m \u001b[0mTextFileReader\u001b[0m\u001b[0;34m(\u001b[0m\u001b[0mfp_or_buf\u001b[0m\u001b[0;34m,\u001b[0m \u001b[0;34m**\u001b[0m\u001b[0mkwds\u001b[0m\u001b[0;34m)\u001b[0m\u001b[0;34m\u001b[0m\u001b[0;34m\u001b[0m\u001b[0m\n\u001b[0m\u001b[1;32m    455\u001b[0m \u001b[0;34m\u001b[0m\u001b[0m\n\u001b[1;32m    456\u001b[0m     \u001b[0;32mif\u001b[0m \u001b[0mchunksize\u001b[0m \u001b[0;32mor\u001b[0m \u001b[0miterator\u001b[0m\u001b[0;34m:\u001b[0m\u001b[0;34m\u001b[0m\u001b[0;34m\u001b[0m\u001b[0m\n",
            "\u001b[0;32m/usr/local/lib/python3.7/dist-packages/pandas/io/parsers.py\u001b[0m in \u001b[0;36m__init__\u001b[0;34m(self, f, engine, **kwds)\u001b[0m\n\u001b[1;32m    946\u001b[0m             \u001b[0mself\u001b[0m\u001b[0;34m.\u001b[0m\u001b[0moptions\u001b[0m\u001b[0;34m[\u001b[0m\u001b[0;34m\"has_index_names\"\u001b[0m\u001b[0;34m]\u001b[0m \u001b[0;34m=\u001b[0m \u001b[0mkwds\u001b[0m\u001b[0;34m[\u001b[0m\u001b[0;34m\"has_index_names\"\u001b[0m\u001b[0;34m]\u001b[0m\u001b[0;34m\u001b[0m\u001b[0;34m\u001b[0m\u001b[0m\n\u001b[1;32m    947\u001b[0m \u001b[0;34m\u001b[0m\u001b[0m\n\u001b[0;32m--> 948\u001b[0;31m         \u001b[0mself\u001b[0m\u001b[0;34m.\u001b[0m\u001b[0m_make_engine\u001b[0m\u001b[0;34m(\u001b[0m\u001b[0mself\u001b[0m\u001b[0;34m.\u001b[0m\u001b[0mengine\u001b[0m\u001b[0;34m)\u001b[0m\u001b[0;34m\u001b[0m\u001b[0;34m\u001b[0m\u001b[0m\n\u001b[0m\u001b[1;32m    949\u001b[0m \u001b[0;34m\u001b[0m\u001b[0m\n\u001b[1;32m    950\u001b[0m     \u001b[0;32mdef\u001b[0m \u001b[0mclose\u001b[0m\u001b[0;34m(\u001b[0m\u001b[0mself\u001b[0m\u001b[0;34m)\u001b[0m\u001b[0;34m:\u001b[0m\u001b[0;34m\u001b[0m\u001b[0;34m\u001b[0m\u001b[0m\n",
            "\u001b[0;32m/usr/local/lib/python3.7/dist-packages/pandas/io/parsers.py\u001b[0m in \u001b[0;36m_make_engine\u001b[0;34m(self, engine)\u001b[0m\n\u001b[1;32m   1178\u001b[0m     \u001b[0;32mdef\u001b[0m \u001b[0m_make_engine\u001b[0m\u001b[0;34m(\u001b[0m\u001b[0mself\u001b[0m\u001b[0;34m,\u001b[0m \u001b[0mengine\u001b[0m\u001b[0;34m=\u001b[0m\u001b[0;34m\"c\"\u001b[0m\u001b[0;34m)\u001b[0m\u001b[0;34m:\u001b[0m\u001b[0;34m\u001b[0m\u001b[0;34m\u001b[0m\u001b[0m\n\u001b[1;32m   1179\u001b[0m         \u001b[0;32mif\u001b[0m \u001b[0mengine\u001b[0m \u001b[0;34m==\u001b[0m \u001b[0;34m\"c\"\u001b[0m\u001b[0;34m:\u001b[0m\u001b[0;34m\u001b[0m\u001b[0;34m\u001b[0m\u001b[0m\n\u001b[0;32m-> 1180\u001b[0;31m             \u001b[0mself\u001b[0m\u001b[0;34m.\u001b[0m\u001b[0m_engine\u001b[0m \u001b[0;34m=\u001b[0m \u001b[0mCParserWrapper\u001b[0m\u001b[0;34m(\u001b[0m\u001b[0mself\u001b[0m\u001b[0;34m.\u001b[0m\u001b[0mf\u001b[0m\u001b[0;34m,\u001b[0m \u001b[0;34m**\u001b[0m\u001b[0mself\u001b[0m\u001b[0;34m.\u001b[0m\u001b[0moptions\u001b[0m\u001b[0;34m)\u001b[0m\u001b[0;34m\u001b[0m\u001b[0;34m\u001b[0m\u001b[0m\n\u001b[0m\u001b[1;32m   1181\u001b[0m         \u001b[0;32melse\u001b[0m\u001b[0;34m:\u001b[0m\u001b[0;34m\u001b[0m\u001b[0;34m\u001b[0m\u001b[0m\n\u001b[1;32m   1182\u001b[0m             \u001b[0;32mif\u001b[0m \u001b[0mengine\u001b[0m \u001b[0;34m==\u001b[0m \u001b[0;34m\"python\"\u001b[0m\u001b[0;34m:\u001b[0m\u001b[0;34m\u001b[0m\u001b[0;34m\u001b[0m\u001b[0m\n",
            "\u001b[0;32m/usr/local/lib/python3.7/dist-packages/pandas/io/parsers.py\u001b[0m in \u001b[0;36m__init__\u001b[0;34m(self, src, **kwds)\u001b[0m\n\u001b[1;32m   2008\u001b[0m         \u001b[0mkwds\u001b[0m\u001b[0;34m[\u001b[0m\u001b[0;34m\"usecols\"\u001b[0m\u001b[0;34m]\u001b[0m \u001b[0;34m=\u001b[0m \u001b[0mself\u001b[0m\u001b[0;34m.\u001b[0m\u001b[0musecols\u001b[0m\u001b[0;34m\u001b[0m\u001b[0;34m\u001b[0m\u001b[0m\n\u001b[1;32m   2009\u001b[0m \u001b[0;34m\u001b[0m\u001b[0m\n\u001b[0;32m-> 2010\u001b[0;31m         \u001b[0mself\u001b[0m\u001b[0;34m.\u001b[0m\u001b[0m_reader\u001b[0m \u001b[0;34m=\u001b[0m \u001b[0mparsers\u001b[0m\u001b[0;34m.\u001b[0m\u001b[0mTextReader\u001b[0m\u001b[0;34m(\u001b[0m\u001b[0msrc\u001b[0m\u001b[0;34m,\u001b[0m \u001b[0;34m**\u001b[0m\u001b[0mkwds\u001b[0m\u001b[0;34m)\u001b[0m\u001b[0;34m\u001b[0m\u001b[0;34m\u001b[0m\u001b[0m\n\u001b[0m\u001b[1;32m   2011\u001b[0m         \u001b[0mself\u001b[0m\u001b[0;34m.\u001b[0m\u001b[0munnamed_cols\u001b[0m \u001b[0;34m=\u001b[0m \u001b[0mself\u001b[0m\u001b[0;34m.\u001b[0m\u001b[0m_reader\u001b[0m\u001b[0;34m.\u001b[0m\u001b[0munnamed_cols\u001b[0m\u001b[0;34m\u001b[0m\u001b[0;34m\u001b[0m\u001b[0m\n\u001b[1;32m   2012\u001b[0m \u001b[0;34m\u001b[0m\u001b[0m\n",
            "\u001b[0;32mpandas/_libs/parsers.pyx\u001b[0m in \u001b[0;36mpandas._libs.parsers.TextReader.__cinit__\u001b[0;34m()\u001b[0m\n",
            "\u001b[0;32mpandas/_libs/parsers.pyx\u001b[0m in \u001b[0;36mpandas._libs.parsers.TextReader._setup_parser_source\u001b[0;34m()\u001b[0m\n",
            "\u001b[0;31mFileNotFoundError\u001b[0m: [Errno 2] No such file or directory: 'data.csv'"
          ]
        }
      ]
    },
    {
      "cell_type": "code",
      "metadata": {
        "id": "_zf1KWhGAdJH"
      },
      "source": [
        "data_df"
      ],
      "execution_count": null,
      "outputs": []
    },
    {
      "cell_type": "code",
      "metadata": {
        "id": "LZD8ZsmIAdYl"
      },
      "source": [
        ""
      ],
      "execution_count": null,
      "outputs": []
    },
    {
      "cell_type": "markdown",
      "metadata": {
        "id": "xgUWELnAysT7"
      },
      "source": [
        "# Basic Python\n",
        "##  variables\n"
      ]
    },
    {
      "cell_type": "markdown",
      "metadata": {
        "id": "OEXLARMI1kgY"
      },
      "source": [
        "ข้อกำหนดในการตั้งชื่อตัวแปร\n",
        "\n",
        "1. ชื่อห้ามมีเว้นวรรค\n",
        "2. (พยายาม)ควรใช้ภาษาอังกฤษ\n",
        "3. ตัวเล็กกับตัวใหญ่แตกต่างกัน (case sensitive)\n",
        "4. ห้ามใช้ตัวเลขเป็นตัวหน้า"
      ]
    },
    {
      "cell_type": "code",
      "metadata": {
        "id": "ZSjZQw520I8a"
      },
      "source": [
        "variable_a = 12\n",
        "variable_b = 'abcde' # ' เรียกว่า quote\n",
        "variable_c = variable_a\n",
        "variable_d = -41.2\n",
        "variable_4 = \"KKU\" # \" เรียกว่า double quote"
      ],
      "execution_count": null,
      "outputs": []
    },
    {
      "cell_type": "code",
      "metadata": {
        "id": "dT25NiXH0roq"
      },
      "source": [
        "variable_a"
      ],
      "execution_count": null,
      "outputs": []
    },
    {
      "cell_type": "code",
      "metadata": {
        "id": "onmMEYCD1LLa"
      },
      "source": [
        "variable_b"
      ],
      "execution_count": null,
      "outputs": []
    },
    {
      "cell_type": "code",
      "metadata": {
        "id": "gS06w3s21OYX"
      },
      "source": [
        "variable_c"
      ],
      "execution_count": null,
      "outputs": []
    },
    {
      "cell_type": "code",
      "metadata": {
        "id": "0T9TGQDe1P_X"
      },
      "source": [
        "variable_x = variable_c + variable_d # ตัวเลขกับตัวหนังสือบวกกันไม่ได้\n",
        "print(variable_x)"
      ],
      "execution_count": null,
      "outputs": []
    },
    {
      "cell_type": "code",
      "metadata": {
        "id": "KEqSZFxc4i6y"
      },
      "source": [
        "print(variable_b + variable_4)"
      ],
      "execution_count": null,
      "outputs": []
    },
    {
      "cell_type": "markdown",
      "metadata": {
        "id": "Ze32U2f57EXn"
      },
      "source": [
        "## Casting int() float() str()"
      ]
    },
    {
      "cell_type": "code",
      "metadata": {
        "id": "NYQjIGuY6qYh"
      },
      "source": [
        "print(variable_x)\n",
        "print(int(variable_x))"
      ],
      "execution_count": null,
      "outputs": []
    },
    {
      "cell_type": "code",
      "metadata": {
        "id": "1lLJExLX7eQz"
      },
      "source": [
        "print(str(variable_x))"
      ],
      "execution_count": null,
      "outputs": []
    },
    {
      "cell_type": "code",
      "metadata": {
        "id": "_OGRE22T7tvx"
      },
      "source": [
        "print(float(variable_x))"
      ],
      "execution_count": null,
      "outputs": []
    },
    {
      "cell_type": "code",
      "metadata": {
        "id": "aJ61zS388SpS"
      },
      "source": [
        "V_X = (str(variable_x))\n",
        "print(V_X)"
      ],
      "execution_count": null,
      "outputs": []
    },
    {
      "cell_type": "code",
      "metadata": {
        "id": "sVhLmwdV8-6N"
      },
      "source": [
        "V_X"
      ],
      "execution_count": null,
      "outputs": []
    },
    {
      "cell_type": "code",
      "metadata": {
        "id": "u2Vq-vG39BM6"
      },
      "source": [
        "float(V_X)"
      ],
      "execution_count": null,
      "outputs": []
    },
    {
      "cell_type": "markdown",
      "metadata": {
        "id": "RLCYGTFq86ct"
      },
      "source": [
        "## Data structure\n",
        "### list()"
      ]
    },
    {
      "cell_type": "code",
      "metadata": {
        "id": "FFUOOe7G9Oxx"
      },
      "source": [
        "list_a = [1,2,0.2,'abs',] # [] square brackets\n",
        "list_b = [2,'xyz',list_a,[1,2,0.0]]"
      ],
      "execution_count": null,
      "outputs": []
    },
    {
      "cell_type": "code",
      "metadata": {
        "id": "ROxYyXzG95v7"
      },
      "source": [
        "list_a"
      ],
      "execution_count": null,
      "outputs": []
    },
    {
      "cell_type": "code",
      "metadata": {
        "id": "cvqtkLhE97u-"
      },
      "source": [
        "list_b"
      ],
      "execution_count": null,
      "outputs": []
    },
    {
      "cell_type": "code",
      "metadata": {
        "id": "Cx682xJq-A4e"
      },
      "source": [
        "len(list_b) # len() คือจำนวนสมาชิก"
      ],
      "execution_count": null,
      "outputs": []
    },
    {
      "cell_type": "code",
      "metadata": {
        "id": "OEBh0Vyj-M78"
      },
      "source": [
        "list_b[3]"
      ],
      "execution_count": null,
      "outputs": []
    },
    {
      "cell_type": "code",
      "metadata": {
        "id": "uOzaYn9j-b9i"
      },
      "source": [
        "list_b[3][1]"
      ],
      "execution_count": null,
      "outputs": []
    },
    {
      "cell_type": "markdown",
      "metadata": {
        "id": "OwC0bMcc-3Ht"
      },
      "source": [
        "string คือ list ของตัวหนังสือ"
      ]
    },
    {
      "cell_type": "code",
      "metadata": {
        "id": "rfrb26kW-kQF"
      },
      "source": [
        "a = 'Stat KKU'\n"
      ],
      "execution_count": null,
      "outputs": []
    },
    {
      "cell_type": "code",
      "metadata": {
        "id": "_1fsWew-_Gpe"
      },
      "source": [
        "a[4]"
      ],
      "execution_count": null,
      "outputs": []
    },
    {
      "cell_type": "markdown",
      "metadata": {
        "id": "qB8wuAtF_hll"
      },
      "source": [
        "วิธีสร้าง list ว่าง"
      ]
    },
    {
      "cell_type": "code",
      "metadata": {
        "id": "NNhTH1nz_H1g"
      },
      "source": [
        "list_c = list() # แบบที่1\n",
        "list_d = [] # แบบที่2"
      ],
      "execution_count": null,
      "outputs": []
    },
    {
      "cell_type": "code",
      "metadata": {
        "id": "2CaMCuDx_6_h"
      },
      "source": [
        "list_c"
      ],
      "execution_count": null,
      "outputs": []
    },
    {
      "cell_type": "code",
      "metadata": {
        "id": "gtkm4w2M_-dl"
      },
      "source": [
        "list_d"
      ],
      "execution_count": null,
      "outputs": []
    },
    {
      "cell_type": "markdown",
      "metadata": {
        "id": "VDQ9PBNbAR12"
      },
      "source": [
        "เติมค่าลงไปใน list (.append())"
      ]
    },
    {
      "cell_type": "code",
      "metadata": {
        "id": "nuDNKOwmAANc"
      },
      "source": [
        "list_d.append('a')"
      ],
      "execution_count": null,
      "outputs": []
    },
    {
      "cell_type": "code",
      "metadata": {
        "id": "EoOinoPkAq_w"
      },
      "source": [
        "list_d"
      ],
      "execution_count": null,
      "outputs": []
    },
    {
      "cell_type": "code",
      "metadata": {
        "id": "3cWfVDFjAuh4"
      },
      "source": [
        "list_d.append('56')"
      ],
      "execution_count": null,
      "outputs": []
    },
    {
      "cell_type": "code",
      "metadata": {
        "id": "CcbWQ2ugAyti"
      },
      "source": [
        "list_d"
      ],
      "execution_count": null,
      "outputs": []
    },
    {
      "cell_type": "markdown",
      "metadata": {
        "id": "kD9kS0y9BFv7"
      },
      "source": [
        "#### **การชี้ค่าใน list (indexing)**\n",
        "\n",
        "1. ลำดับบในการชี้\n",
        "2. ลำดับเริ่มจาก 0\n",
        "3. สามารถชี้จากข้างหลังได้โดยใช้ negative index"
      ]
    },
    {
      "cell_type": "code",
      "metadata": {
        "id": "l18Ig2JxA0Xi"
      },
      "source": [
        "list_b"
      ],
      "execution_count": null,
      "outputs": []
    },
    {
      "cell_type": "code",
      "metadata": {
        "id": "XUip5TgxBbuv"
      },
      "source": [
        "list_b[-1]"
      ],
      "execution_count": null,
      "outputs": []
    },
    {
      "cell_type": "markdown",
      "metadata": {
        "id": "orVlg5bGCH3u"
      },
      "source": [
        "### list slicing"
      ]
    },
    {
      "cell_type": "code",
      "metadata": {
        "id": "-FStO3Z-BgzQ"
      },
      "source": [
        "# วิธีการตัด list "
      ],
      "execution_count": null,
      "outputs": []
    },
    {
      "cell_type": "code",
      "metadata": {
        "id": "ep0q2PU0CPL6"
      },
      "source": [
        "list_ex = [1,2,3,5,6,8,-1,20,50,0]"
      ],
      "execution_count": null,
      "outputs": []
    },
    {
      "cell_type": "markdown",
      "metadata": {
        "id": "RbYjO4dGC4xy"
      },
      "source": [
        "เราจะตัด list โดยเอาตั้งแต่ [ตัวหน้า:ตัวก่อนตัวหลัง] \n",
        "\n",
        "ถ้าเป็นสัยลักษณ์คณิตศาสตร์ [ตัวหน้า,ตัวหลัง] -> [ตัวหน้า,ตัวหลัง)"
      ]
    },
    {
      "cell_type": "code",
      "metadata": {
        "id": "iLDA1uoZCZ0Q"
      },
      "source": [
        "list_ex[1:6] # เราจะตัด list โดยเอาตั้งแต่ [ตัวหน้า:ตัวก่อนตัวหลัง]"
      ],
      "execution_count": null,
      "outputs": []
    },
    {
      "cell_type": "code",
      "metadata": {
        "id": "8woH8VWhCkXt"
      },
      "source": [
        "list_ex[4:]"
      ],
      "execution_count": null,
      "outputs": []
    },
    {
      "cell_type": "code",
      "metadata": {
        "id": "isuLtPMMDieg"
      },
      "source": [
        "list_ex[:6]"
      ],
      "execution_count": null,
      "outputs": []
    },
    {
      "cell_type": "markdown",
      "metadata": {
        "id": "s_Pg0AxnEHIo"
      },
      "source": [
        "[จุดเริ่มต้น:จุดสุดท้ายขอบเขต:step]"
      ]
    },
    {
      "cell_type": "code",
      "metadata": {
        "id": "IbWdc1lfEV5o"
      },
      "source": [
        "list_ex"
      ],
      "execution_count": null,
      "outputs": []
    },
    {
      "cell_type": "code",
      "metadata": {
        "id": "4MTY1mf5DmCp"
      },
      "source": [
        "list_ex[::2]"
      ],
      "execution_count": null,
      "outputs": []
    },
    {
      "cell_type": "code",
      "metadata": {
        "id": "hlKRW--jEEVw"
      },
      "source": [
        "list_ex[::-1] # การกลับ list"
      ],
      "execution_count": null,
      "outputs": []
    },
    {
      "cell_type": "code",
      "metadata": {
        "id": "PvEwHk1QEqYC"
      },
      "source": [
        "a"
      ],
      "execution_count": null,
      "outputs": []
    },
    {
      "cell_type": "code",
      "metadata": {
        "id": "9Rp5oQDrE5ei"
      },
      "source": [
        "a[5:]"
      ],
      "execution_count": null,
      "outputs": []
    },
    {
      "cell_type": "code",
      "metadata": {
        "id": "yw1KHlrgGEKp"
      },
      "source": [
        "a[5::]"
      ],
      "execution_count": null,
      "outputs": []
    },
    {
      "cell_type": "code",
      "metadata": {
        "id": "grzllirTFBVV"
      },
      "source": [
        "a[-3:]"
      ],
      "execution_count": null,
      "outputs": []
    },
    {
      "cell_type": "code",
      "metadata": {
        "id": "cFFk0CF2GDEf"
      },
      "source": [
        "a[5:8]"
      ],
      "execution_count": null,
      "outputs": []
    },
    {
      "cell_type": "markdown",
      "metadata": {
        "id": "3JkKv-dnGsPK"
      },
      "source": [
        "### list + list"
      ]
    },
    {
      "cell_type": "code",
      "metadata": {
        "id": "F07WY9t_GHOh"
      },
      "source": [
        "print(list_a)\n",
        "print(list_b)"
      ],
      "execution_count": null,
      "outputs": []
    },
    {
      "cell_type": "code",
      "metadata": {
        "id": "e4leHsqYG7W5"
      },
      "source": [
        "list_a + list_b"
      ],
      "execution_count": null,
      "outputs": []
    },
    {
      "cell_type": "code",
      "metadata": {
        "id": "3fNbvcmxHH_r"
      },
      "source": [
        "list_b + list_a"
      ],
      "execution_count": null,
      "outputs": []
    },
    {
      "cell_type": "markdown",
      "metadata": {
        "id": "0ULwdMN_LPTd"
      },
      "source": [
        "format string"
      ]
    },
    {
      "cell_type": "markdown",
      "metadata": {
        "id": "jVnN4CrwLxMO"
      },
      "source": [
        "\n",
        "\n",
        "```python\n",
        "f 'string{ตัวแปร}'\n",
        "```\n",
        "\n"
      ]
    },
    {
      "cell_type": "markdown",
      "metadata": {
        "id": "bofs_OFWMN2m"
      },
      "source": [
        "{} เรียกว่า curly bracket"
      ]
    },
    {
      "cell_type": "code",
      "metadata": {
        "id": "I6mJy17nLTt3"
      },
      "source": [
        "f'ตัวแปร list_a มีค่าคือ {list_a}'"
      ],
      "execution_count": null,
      "outputs": []
    },
    {
      "cell_type": "markdown",
      "metadata": {
        "id": "_BtAdT2sHf52"
      },
      "source": [
        "# Loop\n",
        "\n"
      ]
    },
    {
      "cell_type": "markdown",
      "metadata": {
        "id": "6kpXegKmKWDi"
      },
      "source": [
        "\n",
        "\n",
        "\n",
        "```\n",
        "for ตัวแปรที่จะรับค่าจากลิสต์ in ลิสต์ที่จะนำมาวนลูป:\n",
        "     \n",
        "     do something\n",
        "\n",
        "```\n",
        "\n",
        "\n"
      ]
    },
    {
      "cell_type": "code",
      "metadata": {
        "id": "t2VIOYFFJmI5"
      },
      "source": [
        "for i in [1,2,3,4,5]:\n",
        "    print(i+1)\n",
        "\n"
      ],
      "execution_count": null,
      "outputs": []
    },
    {
      "cell_type": "code",
      "metadata": {
        "id": "UAZnvTuTMbjI"
      },
      "source": [
        "for x in [1,2,3,4,5]:\n",
        "  print(f'ค่าตัวแปร x คือ {x} และ x+2={x+2}')"
      ],
      "execution_count": null,
      "outputs": []
    },
    {
      "cell_type": "code",
      "metadata": {
        "id": "O3tPYsujMyW-"
      },
      "source": [
        "list5=[1,2,3,4,5]\n",
        "for x in list5:\n",
        "  print(f'ค่าตัวแปรx คือ {x} และ x+2={x+2}')"
      ],
      "execution_count": null,
      "outputs": []
    },
    {
      "cell_type": "code",
      "metadata": {
        "id": "Hzed3ATANFhZ"
      },
      "source": [
        "list(range(10))"
      ],
      "execution_count": null,
      "outputs": []
    },
    {
      "cell_type": "code",
      "metadata": {
        "id": "kYvD4Xh-NVyq"
      },
      "source": [
        "for i in range(2,7):\n",
        "  print(i)"
      ],
      "execution_count": null,
      "outputs": []
    },
    {
      "cell_type": "code",
      "metadata": {
        "id": "sElebSefN05m"
      },
      "source": [
        "for i in range(2,7,2):\n",
        "  print(i)"
      ],
      "execution_count": null,
      "outputs": []
    },
    {
      "cell_type": "code",
      "metadata": {
        "id": "a0aPd4WIORVK"
      },
      "source": [
        "for i in range(5):\n",
        "  print('hahaha')"
      ],
      "execution_count": null,
      "outputs": []
    },
    {
      "cell_type": "code",
      "metadata": {
        "id": "rZhgUCDrOjZk"
      },
      "source": [
        "for i in range(5):\n",
        "  print('hahaha')\n",
        "  x = i + 3\n",
        "  print(f'i={i} x={x}')"
      ],
      "execution_count": null,
      "outputs": []
    },
    {
      "cell_type": "markdown",
      "metadata": {
        "id": "i0Y3hi1MPCOM"
      },
      "source": [
        "## **Nested loop**"
      ]
    },
    {
      "cell_type": "code",
      "metadata": {
        "id": "FKAvmJvHPAT8"
      },
      "source": [
        "for i in range(3):\n",
        "  print(f'now i = {i}')\n",
        "  print('start j loop')\n",
        "  for j in range(4):\n",
        "    print(f'i ={i}  j ={j}  i+j ={i+j}')\n",
        "  print('end j loop')"
      ],
      "execution_count": null,
      "outputs": []
    },
    {
      "cell_type": "markdown",
      "metadata": {
        "id": "W2mRnIrtHtsl"
      },
      "source": [
        "# Condition (if statement)\n",
        "\n",
        "\n",
        "\n"
      ]
    },
    {
      "cell_type": "markdown",
      "metadata": {
        "id": "F-EuJxvSFknW"
      },
      "source": [
        "```python\n",
        "if เงื่อนไขที่จะตรวจสอบ  (==,!=,<,>,<=,>=) :\n",
        "   ถ้าเงือนไขเป็นจริง ทำงาน 1\n",
        "   ถ้าเงือนไขเป็นจริง ทำงาน 2\n",
        "```\n",
        "\n"
      ]
    },
    {
      "cell_type": "code",
      "metadata": {
        "id": "PlavVtpmF6LC"
      },
      "source": [
        "stringx = 'sajkajksakjsdfhakjshfgdistrdffgj'\n",
        "\n",
        "if len(stringx) > 30 :\n",
        "     print(f'{stringx} is longer that 30 characters')"
      ],
      "execution_count": null,
      "outputs": []
    },
    {
      "cell_type": "code",
      "metadata": {
        "id": "2ORM5rUVHG5i"
      },
      "source": [
        "stringx = 'sajkajksakjsdfhakjshfgdistrdffgj'\n",
        "\n",
        "if len(stringx) > 100 :\n",
        "     print(f'{stringx} is longer that 30 characters')"
      ],
      "execution_count": null,
      "outputs": []
    },
    {
      "cell_type": "markdown",
      "metadata": {
        "id": "O8dJTEeqHcT4"
      },
      "source": [
        "```python\n",
        "if เงื่อนไขที่จะตรวจสอบ  (==,!=,<,>,<=,>=) :\n",
        "   ถ้าเงือนไขเป็นจริง ทำงาน 1\n",
        "   ถ้าเงือนไขเป็นจริง ทำงาน 2\n",
        "else: #ตรวจสอบเงื่อนไขข้างบนแล้วไม่เป็นจริง\n",
        "   ทำงานที่ x   \n",
        "```"
      ]
    },
    {
      "cell_type": "code",
      "metadata": {
        "id": "vjjCKItoHcAV"
      },
      "source": [
        "stringx = 'sajkajksakjsdfhakjshfgdistrdffgj'\n",
        "\n",
        "if len(stringx) > 100 :\n",
        "     print(f'{stringx} is longer that 30 characters')\n",
        "else:\n",
        "  print(f'{stringx} in {len(stringx)} character long')     "
      ],
      "execution_count": null,
      "outputs": []
    },
    {
      "cell_type": "markdown",
      "metadata": {
        "id": "l_ZCTDrVJHUh"
      },
      "source": [
        "```python\n",
        "if เงื่อนไขที่จะตรวจสอบ  (โดยใช้สัญลักษณ์==,!=,<,>,<=,>=) :\n",
        "   ถ้าเงือนไขเป็นจริง ทำงาน 1\n",
        "   ถ้าเงือนไขเป็นจริง ทำงาน 2\n",
        "elif เงื่อนไขที่จะตรวจสอบต่อไปถ้าเงื่อนไขข้างบนไม่เป็นจริง:\n",
        "   ถ้าเงือนไขเป็นจริง ทำงาน a1\n",
        "   ถ้าเงือนไขเป็นจริง ทำงาน a2\n",
        "elif เงื่อนไขที่จะตรวจสอบต่อไปถ้าเงื่อนไขข้างบนไม่เป็นจริง:\n",
        "   ถ้าเงือนไขเป็นจริง ทำงาน b1\n",
        "   ถ้าเงือนไขเป็นจริง ทำงาน b2\n",
        "else: #ตรวจสอบเงื่อนไขข้างบนแล้วไม่เป็นจริง\n",
        "   ทำงานที่ x   \n",
        "```"
      ]
    },
    {
      "cell_type": "code",
      "metadata": {
        "id": "yuZiZ3SxLE_1"
      },
      "source": [
        "password = '12345'\n",
        "\n",
        "input_pass = '123sf'\n",
        "if input_pass == password:\n",
        "  print('welcome!')\n",
        "elif len(input_pass) > len(password):\n",
        "  print( ' Too long, try again! ')\n",
        "elif len(input_pass) < len(password):\n",
        "  print( ' Too long, try again! ')  \n",
        "else:\n",
        "  print('Wrong password, try again')    "
      ],
      "execution_count": null,
      "outputs": []
    },
    {
      "cell_type": "markdown",
      "metadata": {
        "id": "oP5uyC_vK6HA"
      },
      "source": [
        "#**Quiz 1 หา min**"
      ]
    },
    {
      "cell_type": "code",
      "metadata": {
        "id": "zqn5BNpzNgHn"
      },
      "source": [
        "list_ex = [1,5,9,-19,-2,0] # หาค่าน้อยที่สุดใน list_ex โดยไม่ใช้ function min"
      ],
      "execution_count": null,
      "outputs": []
    },
    {
      "cell_type": "code",
      "metadata": {
        "id": "nLT4EfMNN8fn"
      },
      "source": [
        "list_ex = [1,5,9,-19,-2,0]\n",
        "if len(list_ex) < 0 :\n",
        "  print(f'{list_ex} is the lowest value ')\n",
        "else:\n",
        "  print(f'{list_ex} in {len(list_ex)} min ')    "
      ],
      "execution_count": null,
      "outputs": []
    },
    {
      "cell_type": "code",
      "metadata": {
        "id": "0frw9ahgSc77"
      },
      "source": [
        "# เฉลย Quiz 1\n",
        "min = 1000000\n",
        "\n",
        "for i in list_ex:\n",
        "  if i < min:\n",
        "    min = i\n",
        "\n",
        "print(min)    "
      ],
      "execution_count": null,
      "outputs": []
    },
    {
      "cell_type": "code",
      "metadata": {
        "id": "7qAUeYUfXDbi"
      },
      "source": [
        "max = -1000000\n",
        "\n",
        "for i in list_ex:\n",
        "  if i > max:\n",
        "    max = i\n",
        "print(max)"
      ],
      "execution_count": null,
      "outputs": []
    },
    {
      "cell_type": "code",
      "metadata": {
        "id": "8OOqPuTrT_ko"
      },
      "source": [
        "min = 1000000\n",
        "print(list_ex)\n",
        "for i in list_ex:\n",
        "  print(f'now i = {i}, min = {min}')\n",
        "  print('start condition')\n",
        "  if i < min:\n",
        "    print(f'i < min, update min ->{i}')\n",
        "    min = i\n",
        "  else:\n",
        "   print('i >= min, not update')\n",
        "  print('end condition, go to next i ' )   \n",
        "\n",
        "print(min)    "
      ],
      "execution_count": null,
      "outputs": []
    },
    {
      "cell_type": "markdown",
      "metadata": {
        "id": "EB2M7FoLK_06"
      },
      "source": [
        "#**HW ตัดเกรด**"
      ]
    },
    {
      "cell_type": "code",
      "metadata": {
        "id": "BuyAJFiZJ5-3"
      },
      "source": [
        "score = [49,65,70,95,82,55,89,20,77,77,81,59,10] #ตัดเกรด คะแนนใน list score (ใช้ if กับ for)"
      ],
      "execution_count": null,
      "outputs": []
    },
    {
      "cell_type": "markdown",
      "metadata": {
        "id": "YCVqM4BJkJ8y"
      },
      "source": [
        "###เกณฑ์คะเเนนในการตัดเกรด\n",
        "80+ = A , 75 - 79 = B+ , 70-74 = B , 65 - 69 = C+\n",
        "\n",
        "60 - 64 = C , 55 - 59 = D+ , 50 - 54 =D , 49 - 0 = F"
      ]
    },
    {
      "cell_type": "code",
      "metadata": {
        "id": "D9HlgADHkT84"
      },
      "source": [
        "# list ของเกรดแต่ละช่วง\n",
        "list_A = []\n",
        "list_Bplus = []\n",
        "list_B = []\n",
        "list_Cplus = []\n",
        "list_C = []\n",
        "list_Dplus = []\n",
        "list_D = []\n",
        "list_F = []"
      ],
      "execution_count": null,
      "outputs": []
    },
    {
      "cell_type": "code",
      "metadata": {
        "id": "Iwyh7b56kXBx"
      },
      "source": [
        "# loop ของคะแนนตามช่วง\n",
        "for i in  score[:]:\n",
        "    if i >= 80:\n",
        "      list_A.append(i)   \n",
        "    if 75 <= i <= 79:\n",
        "      list_Bplus.append(i)\n",
        "    if 70 <= i <= 74:\n",
        "      list_B.append(i)\n",
        "    if 65 <= i <= 69:\n",
        "      list_Cplus.append(i)\n",
        "    if 60 <= i <= 64:\n",
        "      list_C.append(i)\n",
        "    if 55 <= i <= 59:\n",
        "      list_Dplus.append(i)\n",
        "    if 50 <= i <= 54:\n",
        "      list_D.append(i)\n",
        "    if i <= 49:\n",
        "      list_F.append(i)"
      ],
      "execution_count": null,
      "outputs": []
    },
    {
      "cell_type": "code",
      "metadata": {
        "id": "65OeQ7aIkYoS",
        "colab": {
          "base_uri": "https://localhost:8080/"
        },
        "outputId": "80cca97f-0fd9-4a7c-da62-c3ddd1ab3c22"
      },
      "source": [
        "# เกรด คะแนน เเละจำนวนคนที่ได้\n",
        "print(f'ได้เกรด A      {len(list_A)}  คน      คือ {list_A}')\n",
        "print(f'ได้เกรด B+    {len(list_Bplus)}  คน      คือ {list_Bplus}')\n",
        "print(f'ได้เกรด B      {len(list_B)}  คน      คือ {list_B}')\n",
        "print(f'ได้เกรด C+    {len(list_Cplus)}  คน      คือ {list_Cplus}')\n",
        "print(f'ได้เกรด C       {len(list_C)}  คน      คือ {list_C}')\n",
        "print(f'ได้เกรด D+    {len(list_Dplus)}  คน      คือ {list_Dplus}')\n",
        "print(f'ได้เกรด D      {len(list_D)}  คน      คือ {list_D}')\n",
        "print(f'ได้เกรด F       {len(list_F)}  คน      คือ {list_F}')"
      ],
      "execution_count": null,
      "outputs": [
        {
          "output_type": "stream",
          "text": [
            "ได้เกรด A      4  คน      คือ [95, 82, 89, 81]\n",
            "ได้เกรด B+    2  คน      คือ [77, 77]\n",
            "ได้เกรด B      1  คน      คือ [70]\n",
            "ได้เกรด C+    1  คน      คือ [65]\n",
            "ได้เกรด C       0  คน      คือ []\n",
            "ได้เกรด D+    2  คน      คือ [55, 59]\n",
            "ได้เกรด D      0  คน      คือ []\n",
            "ได้เกรด F       3  คน      คือ [49, 20, 10]\n"
          ],
          "name": "stdout"
        }
      ]
    },
    {
      "cell_type": "markdown",
      "metadata": {
        "id": "tLD5TsGNFaeN"
      },
      "source": [
        "# Function"
      ]
    },
    {
      "cell_type": "markdown",
      "metadata": {
        "id": "3isyhrDqWkYE"
      },
      "source": [
        "# Function\n",
        "\n",
        "\n",
        "```\n",
        "def ชื่อฟังก์ชั่น(input1,input2,...):\n",
        "    งานxxx\n",
        "    งานyyy\n",
        "  return output\n",
        "\n",
        "ส่วนประกอบสำคัญ\n",
        "*   input\n",
        "*   process ไม่มีไม่ได้\n",
        "*   output\n",
        "```\n"
      ]
    },
    {
      "cell_type": "markdown",
      "metadata": {
        "id": "YHD5gQq0eRpw"
      },
      "source": [
        "#### Example1"
      ]
    },
    {
      "cell_type": "code",
      "metadata": {
        "id": "nItITOJyWliU"
      },
      "source": [
        "def grading(score):  #คีย์ลัดในการย่อหน้าบรรทัด คือ Ctrl+[, Ctrl+]\n",
        "  if score >= 90:\n",
        "      grade = 'A'\n",
        "  elif score >= 85:\n",
        "      grade = 'B+'\n",
        "  elif score >= 75:\n",
        "      grade = 'B'\n",
        "  elif score >= 70:\n",
        "      grade = 'C+'\n",
        "  elif score >= 60:\n",
        "      grade = 'C'\n",
        "  elif score >= 55:\n",
        "      grade = 'D+'\n",
        "  elif score >= 50:\n",
        "      grade = 'D'\n",
        "  else:\n",
        "      grade = 'F'\n",
        "  return grade"
      ],
      "execution_count": null,
      "outputs": []
    },
    {
      "cell_type": "code",
      "metadata": {
        "id": "pP_1UqeiWou7"
      },
      "source": [
        "score = [49,65,70,95,82,55,89,20,77,77,81,59,10]\n",
        "for i in score:\n",
        "    print(f'คะแนน {i} ได้เกรด {grading(i)}')"
      ],
      "execution_count": null,
      "outputs": []
    },
    {
      "cell_type": "code",
      "metadata": {
        "id": "iEVbPHkTWrNV"
      },
      "source": [
        "def grading_list(list_score):\n",
        "  grade_list = []\n",
        "  for score in list_score:\n",
        "    if score >= 90:\n",
        "       grade = 'A'\n",
        "    elif score >= 85:\n",
        "       grade = 'B+'\n",
        "    elif score >= 75:\n",
        "       grade = 'B'\n",
        "    elif score >= 70:\n",
        "       grade = 'C+'\n",
        "    elif score >= 60:\n",
        "       grade = 'C'\n",
        "    elif score >= 55:\n",
        "       grade = 'D+'\n",
        "    elif score >= 50:\n",
        "       grade = 'D'\n",
        "    else:\n",
        "      grade = 'F'\n",
        "    grade_list.append([score,grade])\n",
        "  return grade_list"
      ],
      "execution_count": null,
      "outputs": []
    },
    {
      "cell_type": "code",
      "metadata": {
        "id": "WZpIy5V3Ws8G"
      },
      "source": [
        "g = grading_list(score)\n",
        "g"
      ],
      "execution_count": null,
      "outputs": []
    },
    {
      "cell_type": "markdown",
      "metadata": {
        "id": "aB30G-PSeiTh"
      },
      "source": [
        "[link text](https://)#### Example2 (ไม่มี input)"
      ]
    },
    {
      "cell_type": "code",
      "metadata": {
        "id": "gUPtI9FWekfj"
      },
      "source": [
        "def mypi():\n",
        "    return 3.14"
      ],
      "execution_count": 3,
      "outputs": []
    },
    {
      "cell_type": "code",
      "metadata": {
        "id": "y7fgc88yeorS",
        "outputId": "59692684-9fdb-4fd9-cf18-a328fa68eb39",
        "colab": {
          "base_uri": "https://localhost:8080/"
        }
      },
      "source": [
        "r=10\n",
        "print(f'รัศมี={r} จะมีเส้นรอบวง = {2*mypi()*r}')"
      ],
      "execution_count": 4,
      "outputs": [
        {
          "output_type": "stream",
          "text": [
            "รัศมี=10 จะมีเส้นรอบวง = 62.800000000000004\n"
          ],
          "name": "stdout"
        }
      ]
    },
    {
      "cell_type": "markdown",
      "metadata": {
        "id": "zseTOIYHerus"
      },
      "source": [
        "#### Example3 (ไม่มี output)"
      ]
    },
    {
      "cell_type": "code",
      "metadata": {
        "id": "z_LlwBRwesnA"
      },
      "source": [
        "def grading_nooutput(score):             \n",
        "\n",
        "  if i >= 80:\n",
        "    print(f'{i} = A')\n",
        "  elif i >= 75: \n",
        "    print(f'{i} = B+')\n",
        "  elif i >= 70:\n",
        "    print(f'{i} = B')\n",
        "  elif i >= 65:\n",
        "    print(f'{i} = C+')\n",
        "  elif i >= 60:\n",
        "    print(f'{i} = C')\n",
        "  elif i >= 55:\n",
        "    print(f'{i} = D+')\n",
        "  elif i >= 50:\n",
        "    print(f'{i} = D')\n",
        "  else:\n",
        "    print(f'{i} = F')"
      ],
      "execution_count": 5,
      "outputs": []
    },
    {
      "cell_type": "markdown",
      "metadata": {
        "id": "LeMcduTnewuv"
      },
      "source": [
        "#### Example4 (ไม่มี input และ output)"
      ]
    },
    {
      "cell_type": "code",
      "metadata": {
        "id": "KBVRDsPZewOn"
      },
      "source": [
        "def darw_rect():\n",
        "    print('============')\n",
        "    print('|                         |')\n",
        "    print('|                         |')\n",
        "    print('============')"
      ],
      "execution_count": 8,
      "outputs": []
    },
    {
      "cell_type": "code",
      "metadata": {
        "id": "Ns4fjU3Uey7O",
        "outputId": "a981931c-cc3e-4df3-a8b6-3fff4440558f",
        "colab": {
          "base_uri": "https://localhost:8080/"
        }
      },
      "source": [
        "darw_rect()\n",
        "darw_rect()"
      ],
      "execution_count": 9,
      "outputs": [
        {
          "output_type": "stream",
          "text": [
            "============\n",
            "|                         |\n",
            "|                         |\n",
            "============\n",
            "============\n",
            "|                         |\n",
            "|                         |\n",
            "============\n"
          ],
          "name": "stdout"
        }
      ]
    },
    {
      "cell_type": "markdown",
      "metadata": {
        "id": "i2GU42fMe7Mm"
      },
      "source": [
        "#### ลักษณะของ input(parameter)\n",
        "\n",
        "* จำเป็นต้องใส่ (non-default argument)\n",
        "* ไม่จำเป็นต้องใส่"
      ]
    },
    {
      "cell_type": "code",
      "metadata": {
        "id": "WmhG1glye-oi"
      },
      "source": [
        "def A(input1,input2 = 3):             ### ไม่จำเป็นต้องใส่ input ใน input2\n",
        "    return input1+input2              ### เพราะ กำหนดค่า default แล้ว"
      ],
      "execution_count": 10,
      "outputs": []
    },
    {
      "cell_type": "code",
      "metadata": {
        "id": "2y5CjwcYfAWW",
        "outputId": "be37b543-12f2-47fa-95db-eb56544286ec",
        "colab": {
          "base_uri": "https://localhost:8080/"
        }
      },
      "source": [
        "A(1)                               ### ใส่ input ใน input1"
      ],
      "execution_count": 11,
      "outputs": [
        {
          "output_type": "execute_result",
          "data": {
            "text/plain": [
              "4"
            ]
          },
          "metadata": {
            "tags": []
          },
          "execution_count": 11
        }
      ]
    },
    {
      "cell_type": "code",
      "metadata": {
        "id": "56Wda2_SfBp_",
        "outputId": "ad5d32f3-dc25-497c-b375-7b8e9da05cb4",
        "colab": {
          "base_uri": "https://localhost:8080/"
        }
      },
      "source": [
        "A(1,2)"
      ],
      "execution_count": 12,
      "outputs": [
        {
          "output_type": "execute_result",
          "data": {
            "text/plain": [
              "3"
            ]
          },
          "metadata": {
            "tags": []
          },
          "execution_count": 12
        }
      ]
    },
    {
      "cell_type": "code",
      "metadata": {
        "id": "2ZpTnzXAfDcv"
      },
      "source": [
        "def printlove(input1,input2 = 'Stat', input3 = 'KKU'):           \n",
        "    print(f'{input1} love {input2} {input3}')"
      ],
      "execution_count": 13,
      "outputs": []
    },
    {
      "cell_type": "code",
      "metadata": {
        "id": "J8-J8AmAfDYi",
        "outputId": "26f8e1cb-0127-484e-e17b-cda301c4d185",
        "colab": {
          "base_uri": "https://localhost:8080/"
        }
      },
      "source": [
        "printlove('Parichaya')"
      ],
      "execution_count": 14,
      "outputs": [
        {
          "output_type": "stream",
          "text": [
            "Parichaya love Stat KKU\n"
          ],
          "name": "stdout"
        }
      ]
    },
    {
      "cell_type": "code",
      "metadata": {
        "id": "PZS6fM7qfDR5",
        "outputId": "35dc8a9b-3a49-419e-87bc-80bf13c521dc",
        "colab": {
          "base_uri": "https://localhost:8080/"
        }
      },
      "source": [
        "printlove('Parichaya','SI','Stat')"
      ],
      "execution_count": 15,
      "outputs": [
        {
          "output_type": "stream",
          "text": [
            "Parichaya love SI Stat\n"
          ],
          "name": "stdout"
        }
      ]
    },
    {
      "cell_type": "markdown",
      "metadata": {
        "id": "Rot4n30-fQm_"
      },
      "source": [
        "**เอา input ที่จำเป็นขึ้นก่อน**"
      ]
    },
    {
      "cell_type": "markdown",
      "metadata": {
        "id": "gGfJUD6KfRML"
      },
      "source": [
        "### Quiz2\n",
        "สร้างฟังก์ชั่น\n",
        "* วาดรูปบ้าน\n",
        "* วาดรูปต้นไม้"
      ]
    },
    {
      "cell_type": "code",
      "metadata": {
        "id": "3w_kjUZpWvNN"
      },
      "source": [
        "def drawH():\n",
        "    print('          /\\         ')\n",
        "    print('        /    \\        ')\n",
        "    print('      /        \\       ')\n",
        "    print('    /            \\      ')\n",
        "    print('     ======      ')\n",
        "    print('     |            |              ***** ')\n",
        "    print('     |            |          ********** ')\n",
        "    print('     ======             *******  ')\n",
        "    print('                                    | | ')\n",
        "    print('                                    | |  ')\n",
        "    print('                                    | |  ')"
      ],
      "execution_count": null,
      "outputs": []
    },
    {
      "cell_type": "code",
      "metadata": {
        "id": "dL3Uf37YWx_f",
        "colab": {
          "base_uri": "https://localhost:8080/"
        },
        "outputId": "63145dc3-6a7c-4878-fce3-aa1ca95278ef"
      },
      "source": [
        "drawH()"
      ],
      "execution_count": null,
      "outputs": [
        {
          "output_type": "stream",
          "text": [
            "          /\\         \n",
            "        /    \\        \n",
            "      /        \\       \n",
            "    /            \\      \n",
            "     ======      \n",
            "     |            |              ***** \n",
            "     |            |          ********** \n",
            "     ======             *******  \n",
            "                                    | | \n",
            "                                    | |  \n",
            "                                    | |  \n"
          ],
          "name": "stdout"
        }
      ]
    },
    {
      "cell_type": "code",
      "metadata": {
        "id": "1PnmDQejXjKO"
      },
      "source": [
        ""
      ],
      "execution_count": null,
      "outputs": []
    }
  ]
}