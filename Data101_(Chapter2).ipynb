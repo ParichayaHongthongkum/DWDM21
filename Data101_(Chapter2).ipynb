{
  "nbformat": 4,
  "nbformat_minor": 0,
  "metadata": {
    "colab": {
      "name": "Data101 (Chapter2).ipynb",
      "provenance": [],
      "authorship_tag": "ABX9TyPLiI95wd6pXNF/LCIbkqD1",
      "include_colab_link": true
    },
    "kernelspec": {
      "name": "python3",
      "display_name": "Python 3"
    },
    "language_info": {
      "name": "python"
    }
  },
  "cells": [
    {
      "cell_type": "markdown",
      "metadata": {
        "id": "view-in-github",
        "colab_type": "text"
      },
      "source": [
        "<a href=\"https://colab.research.google.com/github/ParichayaHongthongkum/DWDM21/blob/main/Data101_(Chapter2).ipynb\" target=\"_parent\"><img src=\"https://colab.research.google.com/assets/colab-badge.svg\" alt=\"Open In Colab\"/></a>"
      ]
    },
    {
      "cell_type": "markdown",
      "metadata": {
        "id": "2KnsKuInz03P"
      },
      "source": [
        "ข้อความที่อยู่ใน textbox จะเป็นภาษา markdow"
      ]
    },
    {
      "cell_type": "markdown",
      "metadata": {
        "id": "RChaAF4qtrEU"
      },
      "source": [
        "ข้อดีหนึ่งของ Python คือมี package สำหรับทำงานต่างๆมากมาย\n",
        "\n",
        "ซึ่ง pandas เป็น package สำหรับการทำงานกับข้อมูลที่อยู่ในรููปแบบตาราง\n",
        "\n",
        "โย pandas จะเรียกตารางนั้นว่า dataframe"
      ]
    },
    {
      "cell_type": "code",
      "metadata": {
        "id": "1AEDKgaur4sj"
      },
      "source": [
        "import pandas # วิธีเรียกใช้ package คือ import ตามด้วยชื่อ package"
      ],
      "execution_count": 58,
      "outputs": []
    },
    {
      "cell_type": "code",
      "metadata": {
        "id": "N7iccW6StBLd"
      },
      "source": [
        "import pandas as pd # เหมือนกับข้างบนแต่ ตั้งชื่อให้ package ที่โหลดมาใหม่ว่า pd"
      ],
      "execution_count": 59,
      "outputs": []
    },
    {
      "cell_type": "markdown",
      "metadata": {
        "id": "VLT7j1o0utok"
      },
      "source": [
        "ไฟล์ .csv (csv = comma separated values) เป็นไฟล์หลักที่เก็บข้อมูลตารางที่จะใช้กันในวิชานี้  \n",
        "\n"
      ]
    },
    {
      "cell_type": "code",
      "metadata": {
        "id": "pdBHRsW9uip9"
      },
      "source": [
        "data_df = pd.read_csv('data.csv')"
      ],
      "execution_count": 117,
      "outputs": []
    },
    {
      "cell_type": "code",
      "metadata": {
        "id": "_zf1KWhGAdJH",
        "outputId": "f2d0f4a4-c907-49f4-a65a-6d89b0031f52",
        "colab": {
          "base_uri": "https://localhost:8080/",
          "height": 142
        }
      },
      "source": [
        "data_df"
      ],
      "execution_count": 118,
      "outputs": [
        {
          "output_type": "execute_result",
          "data": {
            "text/html": [
              "<div>\n",
              "<style scoped>\n",
              "    .dataframe tbody tr th:only-of-type {\n",
              "        vertical-align: middle;\n",
              "    }\n",
              "\n",
              "    .dataframe tbody tr th {\n",
              "        vertical-align: top;\n",
              "    }\n",
              "\n",
              "    .dataframe thead th {\n",
              "        text-align: right;\n",
              "    }\n",
              "</style>\n",
              "<table border=\"1\" class=\"dataframe\">\n",
              "  <thead>\n",
              "    <tr style=\"text-align: right;\">\n",
              "      <th></th>\n",
              "      <th>name</th>\n",
              "      <th>age</th>\n",
              "      <th>city</th>\n",
              "    </tr>\n",
              "  </thead>\n",
              "  <tbody>\n",
              "    <tr>\n",
              "      <th>0</th>\n",
              "      <td>Tom</td>\n",
              "      <td>27</td>\n",
              "      <td>Khonkaen</td>\n",
              "    </tr>\n",
              "    <tr>\n",
              "      <th>1</th>\n",
              "      <td>Paul</td>\n",
              "      <td>15</td>\n",
              "      <td>Bangkok</td>\n",
              "    </tr>\n",
              "    <tr>\n",
              "      <th>2</th>\n",
              "      <td>Lee</td>\n",
              "      <td>20</td>\n",
              "      <td>London</td>\n",
              "    </tr>\n",
              "  </tbody>\n",
              "</table>\n",
              "</div>"
            ],
            "text/plain": [
              "   name  age      city\n",
              "0   Tom   27  Khonkaen\n",
              "1  Paul   15   Bangkok\n",
              "2   Lee   20    London"
            ]
          },
          "metadata": {
            "tags": []
          },
          "execution_count": 118
        }
      ]
    },
    {
      "cell_type": "code",
      "metadata": {
        "id": "LZD8ZsmIAdYl"
      },
      "source": [
        ""
      ],
      "execution_count": null,
      "outputs": []
    },
    {
      "cell_type": "markdown",
      "metadata": {
        "id": "xgUWELnAysT7"
      },
      "source": [
        "# Basic Python\n",
        "##  variables\n"
      ]
    },
    {
      "cell_type": "markdown",
      "metadata": {
        "id": "OEXLARMI1kgY"
      },
      "source": [
        "ข้อกำหนดในการตั้งชื่อตัวแปร\n",
        "\n",
        "1. ชื่อห้ามมีเว้นวรรค\n",
        "2. (พยายาม)ควรใช้ภาษาอังกฤษ\n",
        "3. ตัวเล็กกับตัวใหญ่แตกต่างกัน (case sensitive)\n",
        "4. ห้ามใช้ตัวเลขเป็นตัวหน้า"
      ]
    },
    {
      "cell_type": "code",
      "metadata": {
        "id": "ZSjZQw520I8a"
      },
      "source": [
        "variable_a = 12\n",
        "variable_b = 'abcde' # ' เรียกว่า quote\n",
        "variable_c = variable_a\n",
        "variable_d = -41.2\n",
        "variable_4 = \"KKU\" # \" เรียกว่า double quote"
      ],
      "execution_count": 60,
      "outputs": []
    },
    {
      "cell_type": "code",
      "metadata": {
        "colab": {
          "base_uri": "https://localhost:8080/"
        },
        "id": "dT25NiXH0roq",
        "outputId": "c0e15d2f-fae5-451c-f784-ae5a475a4d27"
      },
      "source": [
        "variable_a"
      ],
      "execution_count": 61,
      "outputs": [
        {
          "output_type": "execute_result",
          "data": {
            "text/plain": [
              "12"
            ]
          },
          "metadata": {
            "tags": []
          },
          "execution_count": 61
        }
      ]
    },
    {
      "cell_type": "code",
      "metadata": {
        "colab": {
          "base_uri": "https://localhost:8080/",
          "height": 35
        },
        "id": "onmMEYCD1LLa",
        "outputId": "2e6266dd-d849-4167-c660-5928d81f852e"
      },
      "source": [
        "variable_b"
      ],
      "execution_count": 62,
      "outputs": [
        {
          "output_type": "execute_result",
          "data": {
            "application/vnd.google.colaboratory.intrinsic+json": {
              "type": "string"
            },
            "text/plain": [
              "'abcde'"
            ]
          },
          "metadata": {
            "tags": []
          },
          "execution_count": 62
        }
      ]
    },
    {
      "cell_type": "code",
      "metadata": {
        "colab": {
          "base_uri": "https://localhost:8080/"
        },
        "id": "gS06w3s21OYX",
        "outputId": "82e5c13e-2669-43cf-9931-134270c14527"
      },
      "source": [
        "variable_c"
      ],
      "execution_count": 63,
      "outputs": [
        {
          "output_type": "execute_result",
          "data": {
            "text/plain": [
              "12"
            ]
          },
          "metadata": {
            "tags": []
          },
          "execution_count": 63
        }
      ]
    },
    {
      "cell_type": "code",
      "metadata": {
        "colab": {
          "base_uri": "https://localhost:8080/"
        },
        "id": "0T9TGQDe1P_X",
        "outputId": "3ae56c27-d619-4b61-a94d-993c47dfa5ba"
      },
      "source": [
        "variable_x = variable_c + variable_d # ตัวเลขกับตัวหนังสือบวกกันไม่ได้\n",
        "print(variable_x)"
      ],
      "execution_count": 64,
      "outputs": [
        {
          "output_type": "stream",
          "text": [
            "-29.200000000000003\n"
          ],
          "name": "stdout"
        }
      ]
    },
    {
      "cell_type": "code",
      "metadata": {
        "colab": {
          "base_uri": "https://localhost:8080/"
        },
        "id": "KEqSZFxc4i6y",
        "outputId": "eeb117f3-eeae-45e2-d0bb-93da5ec50b1d"
      },
      "source": [
        "print(variable_b + variable_4)"
      ],
      "execution_count": 65,
      "outputs": [
        {
          "output_type": "stream",
          "text": [
            "abcdeKKU\n"
          ],
          "name": "stdout"
        }
      ]
    },
    {
      "cell_type": "markdown",
      "metadata": {
        "id": "Ze32U2f57EXn"
      },
      "source": [
        "## Casting int() float() str()"
      ]
    },
    {
      "cell_type": "code",
      "metadata": {
        "colab": {
          "base_uri": "https://localhost:8080/"
        },
        "id": "NYQjIGuY6qYh",
        "outputId": "04077e10-f019-4924-c509-3bcefe84c4a7"
      },
      "source": [
        "print(variable_x)\n",
        "print(int(variable_x))"
      ],
      "execution_count": 66,
      "outputs": [
        {
          "output_type": "stream",
          "text": [
            "-29.200000000000003\n",
            "-29\n"
          ],
          "name": "stdout"
        }
      ]
    },
    {
      "cell_type": "code",
      "metadata": {
        "colab": {
          "base_uri": "https://localhost:8080/"
        },
        "id": "1lLJExLX7eQz",
        "outputId": "c5a203e2-9a15-4627-f81f-3e5b9fb0c729"
      },
      "source": [
        "print(str(variable_x))"
      ],
      "execution_count": 67,
      "outputs": [
        {
          "output_type": "stream",
          "text": [
            "-29.200000000000003\n"
          ],
          "name": "stdout"
        }
      ]
    },
    {
      "cell_type": "code",
      "metadata": {
        "colab": {
          "base_uri": "https://localhost:8080/"
        },
        "id": "_OGRE22T7tvx",
        "outputId": "2230979f-0baf-4e4d-fb98-088e06a193ca"
      },
      "source": [
        "print(float(variable_x))"
      ],
      "execution_count": 68,
      "outputs": [
        {
          "output_type": "stream",
          "text": [
            "-29.200000000000003\n"
          ],
          "name": "stdout"
        }
      ]
    },
    {
      "cell_type": "code",
      "metadata": {
        "colab": {
          "base_uri": "https://localhost:8080/"
        },
        "id": "aJ61zS388SpS",
        "outputId": "01e2fa27-177d-41ba-b05b-2b26e8d56b87"
      },
      "source": [
        "V_X = (str(variable_x))\n",
        "print(V_X)"
      ],
      "execution_count": 69,
      "outputs": [
        {
          "output_type": "stream",
          "text": [
            "-29.200000000000003\n"
          ],
          "name": "stdout"
        }
      ]
    },
    {
      "cell_type": "code",
      "metadata": {
        "colab": {
          "base_uri": "https://localhost:8080/",
          "height": 35
        },
        "id": "sVhLmwdV8-6N",
        "outputId": "45021703-ff51-44f8-8ed9-cd98eb148f5b"
      },
      "source": [
        "V_X"
      ],
      "execution_count": 70,
      "outputs": [
        {
          "output_type": "execute_result",
          "data": {
            "application/vnd.google.colaboratory.intrinsic+json": {
              "type": "string"
            },
            "text/plain": [
              "'-29.200000000000003'"
            ]
          },
          "metadata": {
            "tags": []
          },
          "execution_count": 70
        }
      ]
    },
    {
      "cell_type": "code",
      "metadata": {
        "colab": {
          "base_uri": "https://localhost:8080/"
        },
        "id": "u2Vq-vG39BM6",
        "outputId": "7fd09bb7-e734-413b-9024-30b25047db73"
      },
      "source": [
        "float(V_X)"
      ],
      "execution_count": 71,
      "outputs": [
        {
          "output_type": "execute_result",
          "data": {
            "text/plain": [
              "-29.200000000000003"
            ]
          },
          "metadata": {
            "tags": []
          },
          "execution_count": 71
        }
      ]
    },
    {
      "cell_type": "markdown",
      "metadata": {
        "id": "RLCYGTFq86ct"
      },
      "source": [
        "## Data structure\n",
        "### list()"
      ]
    },
    {
      "cell_type": "code",
      "metadata": {
        "id": "FFUOOe7G9Oxx"
      },
      "source": [
        "list_a = [1,2,0.2,'abs',] # [] square brackets\n",
        "list_b = [2,'xyz',list_a,[1,2,0.0]]"
      ],
      "execution_count": 72,
      "outputs": []
    },
    {
      "cell_type": "code",
      "metadata": {
        "colab": {
          "base_uri": "https://localhost:8080/"
        },
        "id": "ROxYyXzG95v7",
        "outputId": "baf3a7fd-5078-46c7-8943-6376527a1784"
      },
      "source": [
        "list_a"
      ],
      "execution_count": 73,
      "outputs": [
        {
          "output_type": "execute_result",
          "data": {
            "text/plain": [
              "[1, 2, 0.2, 'abs']"
            ]
          },
          "metadata": {
            "tags": []
          },
          "execution_count": 73
        }
      ]
    },
    {
      "cell_type": "code",
      "metadata": {
        "colab": {
          "base_uri": "https://localhost:8080/"
        },
        "id": "cvqtkLhE97u-",
        "outputId": "cd5d450b-75a4-4298-bb8e-c2b25a05f05e"
      },
      "source": [
        "list_b"
      ],
      "execution_count": 74,
      "outputs": [
        {
          "output_type": "execute_result",
          "data": {
            "text/plain": [
              "[2, 'xyz', [1, 2, 0.2, 'abs'], [1, 2, 0.0]]"
            ]
          },
          "metadata": {
            "tags": []
          },
          "execution_count": 74
        }
      ]
    },
    {
      "cell_type": "code",
      "metadata": {
        "colab": {
          "base_uri": "https://localhost:8080/"
        },
        "id": "Cx682xJq-A4e",
        "outputId": "7ef52ac0-44c1-4412-c1d0-27bac5fe1be6"
      },
      "source": [
        "len(list_b) # len() คือจำนวนสมาชิก"
      ],
      "execution_count": 75,
      "outputs": [
        {
          "output_type": "execute_result",
          "data": {
            "text/plain": [
              "4"
            ]
          },
          "metadata": {
            "tags": []
          },
          "execution_count": 75
        }
      ]
    },
    {
      "cell_type": "code",
      "metadata": {
        "colab": {
          "base_uri": "https://localhost:8080/"
        },
        "id": "OEBh0Vyj-M78",
        "outputId": "90338f7c-3095-4042-8ab0-83604e0a062b"
      },
      "source": [
        "list_b[3]"
      ],
      "execution_count": 76,
      "outputs": [
        {
          "output_type": "execute_result",
          "data": {
            "text/plain": [
              "[1, 2, 0.0]"
            ]
          },
          "metadata": {
            "tags": []
          },
          "execution_count": 76
        }
      ]
    },
    {
      "cell_type": "code",
      "metadata": {
        "colab": {
          "base_uri": "https://localhost:8080/"
        },
        "id": "uOzaYn9j-b9i",
        "outputId": "2f149c64-5bcf-4ca4-fed1-633e8e2ce709"
      },
      "source": [
        "list_b[3][1]"
      ],
      "execution_count": 77,
      "outputs": [
        {
          "output_type": "execute_result",
          "data": {
            "text/plain": [
              "2"
            ]
          },
          "metadata": {
            "tags": []
          },
          "execution_count": 77
        }
      ]
    },
    {
      "cell_type": "markdown",
      "metadata": {
        "id": "OwC0bMcc-3Ht"
      },
      "source": [
        "string คือ list ของตัวหนังสือ"
      ]
    },
    {
      "cell_type": "code",
      "metadata": {
        "id": "rfrb26kW-kQF"
      },
      "source": [
        "a = 'Stat KKU'\n"
      ],
      "execution_count": 78,
      "outputs": []
    },
    {
      "cell_type": "code",
      "metadata": {
        "colab": {
          "base_uri": "https://localhost:8080/",
          "height": 0
        },
        "id": "_1fsWew-_Gpe",
        "outputId": "0c139fdb-ebc3-4b87-d95f-6572717eb253"
      },
      "source": [
        "a[4]"
      ],
      "execution_count": 79,
      "outputs": [
        {
          "output_type": "execute_result",
          "data": {
            "application/vnd.google.colaboratory.intrinsic+json": {
              "type": "string"
            },
            "text/plain": [
              "' '"
            ]
          },
          "metadata": {
            "tags": []
          },
          "execution_count": 79
        }
      ]
    },
    {
      "cell_type": "markdown",
      "metadata": {
        "id": "qB8wuAtF_hll"
      },
      "source": [
        "วิธีสร้าง list ว่าง"
      ]
    },
    {
      "cell_type": "code",
      "metadata": {
        "id": "NNhTH1nz_H1g"
      },
      "source": [
        "list_c = list() # แบบที่1\n",
        "list_d = [] # แบบที่2"
      ],
      "execution_count": 80,
      "outputs": []
    },
    {
      "cell_type": "code",
      "metadata": {
        "colab": {
          "base_uri": "https://localhost:8080/"
        },
        "id": "2CaMCuDx_6_h",
        "outputId": "39a7fd57-08cd-401d-fe3a-431e766fcd47"
      },
      "source": [
        "list_c"
      ],
      "execution_count": 81,
      "outputs": [
        {
          "output_type": "execute_result",
          "data": {
            "text/plain": [
              "[]"
            ]
          },
          "metadata": {
            "tags": []
          },
          "execution_count": 81
        }
      ]
    },
    {
      "cell_type": "code",
      "metadata": {
        "colab": {
          "base_uri": "https://localhost:8080/"
        },
        "id": "gtkm4w2M_-dl",
        "outputId": "92892e79-981e-41f0-a33b-092ae325d3e9"
      },
      "source": [
        "list_d"
      ],
      "execution_count": 82,
      "outputs": [
        {
          "output_type": "execute_result",
          "data": {
            "text/plain": [
              "[]"
            ]
          },
          "metadata": {
            "tags": []
          },
          "execution_count": 82
        }
      ]
    },
    {
      "cell_type": "markdown",
      "metadata": {
        "id": "VDQ9PBNbAR12"
      },
      "source": [
        "เติมค่าลงไปใน list (.append())"
      ]
    },
    {
      "cell_type": "code",
      "metadata": {
        "id": "nuDNKOwmAANc"
      },
      "source": [
        "list_d.append('a')"
      ],
      "execution_count": 83,
      "outputs": []
    },
    {
      "cell_type": "code",
      "metadata": {
        "colab": {
          "base_uri": "https://localhost:8080/"
        },
        "id": "EoOinoPkAq_w",
        "outputId": "78a39a4d-9258-47c6-fb7f-647bb3280773"
      },
      "source": [
        "list_d"
      ],
      "execution_count": 84,
      "outputs": [
        {
          "output_type": "execute_result",
          "data": {
            "text/plain": [
              "['a']"
            ]
          },
          "metadata": {
            "tags": []
          },
          "execution_count": 84
        }
      ]
    },
    {
      "cell_type": "code",
      "metadata": {
        "id": "3cWfVDFjAuh4"
      },
      "source": [
        "list_d.append('56')"
      ],
      "execution_count": 85,
      "outputs": []
    },
    {
      "cell_type": "code",
      "metadata": {
        "colab": {
          "base_uri": "https://localhost:8080/"
        },
        "id": "CcbWQ2ugAyti",
        "outputId": "4ca455d9-28f8-4ed4-e627-3394589ee388"
      },
      "source": [
        "list_d"
      ],
      "execution_count": 86,
      "outputs": [
        {
          "output_type": "execute_result",
          "data": {
            "text/plain": [
              "['a', '56']"
            ]
          },
          "metadata": {
            "tags": []
          },
          "execution_count": 86
        }
      ]
    },
    {
      "cell_type": "markdown",
      "metadata": {
        "id": "kD9kS0y9BFv7"
      },
      "source": [
        "#### **การชี้ค่าใน list (indexing)**\n",
        "\n",
        "1. ลำดับบในการชี้\n",
        "2. ลำดับเริ่มจาก 0\n",
        "3. สามารถชี้จากข้างหลังได้โดยใช้ negative index"
      ]
    },
    {
      "cell_type": "code",
      "metadata": {
        "colab": {
          "base_uri": "https://localhost:8080/"
        },
        "id": "l18Ig2JxA0Xi",
        "outputId": "d35ecd79-7dea-4103-d4f6-2390e8208687"
      },
      "source": [
        "list_b"
      ],
      "execution_count": 87,
      "outputs": [
        {
          "output_type": "execute_result",
          "data": {
            "text/plain": [
              "[2, 'xyz', [1, 2, 0.2, 'abs'], [1, 2, 0.0]]"
            ]
          },
          "metadata": {
            "tags": []
          },
          "execution_count": 87
        }
      ]
    },
    {
      "cell_type": "code",
      "metadata": {
        "colab": {
          "base_uri": "https://localhost:8080/"
        },
        "id": "XUip5TgxBbuv",
        "outputId": "7decedeb-abe7-4e39-851f-13e00481e540"
      },
      "source": [
        "list_b[-1]"
      ],
      "execution_count": 88,
      "outputs": [
        {
          "output_type": "execute_result",
          "data": {
            "text/plain": [
              "[1, 2, 0.0]"
            ]
          },
          "metadata": {
            "tags": []
          },
          "execution_count": 88
        }
      ]
    },
    {
      "cell_type": "markdown",
      "metadata": {
        "id": "orVlg5bGCH3u"
      },
      "source": [
        "### list slicing"
      ]
    },
    {
      "cell_type": "code",
      "metadata": {
        "id": "-FStO3Z-BgzQ"
      },
      "source": [
        "# วิธีการตัด list "
      ],
      "execution_count": 89,
      "outputs": []
    },
    {
      "cell_type": "code",
      "metadata": {
        "id": "ep0q2PU0CPL6"
      },
      "source": [
        "list_ex = [1,2,3,5,6,8,-1,20,50,0]"
      ],
      "execution_count": 90,
      "outputs": []
    },
    {
      "cell_type": "markdown",
      "metadata": {
        "id": "RbYjO4dGC4xy"
      },
      "source": [
        "เราจะตัด list โดยเอาตั้งแต่ [ตัวหน้า:ตัวก่อนตัวหลัง] \n",
        "\n",
        "ถ้าเป็นสัยลักษณ์คณิตศาสตร์ [ตัวหน้า,ตัวหลัง] -> [ตัวหน้า,ตัวหลัง)"
      ]
    },
    {
      "cell_type": "code",
      "metadata": {
        "colab": {
          "base_uri": "https://localhost:8080/"
        },
        "id": "iLDA1uoZCZ0Q",
        "outputId": "0ee418e0-6227-4ab5-f0d0-51ed7483be13"
      },
      "source": [
        "list_ex[1:6] # เราจะตัด list โดยเอาตั้งแต่ [ตัวหน้า:ตัวก่อนตัวหลัง]"
      ],
      "execution_count": 91,
      "outputs": [
        {
          "output_type": "execute_result",
          "data": {
            "text/plain": [
              "[2, 3, 5, 6, 8]"
            ]
          },
          "metadata": {
            "tags": []
          },
          "execution_count": 91
        }
      ]
    },
    {
      "cell_type": "code",
      "metadata": {
        "colab": {
          "base_uri": "https://localhost:8080/"
        },
        "id": "8woH8VWhCkXt",
        "outputId": "b05ee18b-3990-4237-f2aa-ae2a3938e61d"
      },
      "source": [
        "list_ex[4:]"
      ],
      "execution_count": 92,
      "outputs": [
        {
          "output_type": "execute_result",
          "data": {
            "text/plain": [
              "[6, 8, -1, 20, 50, 0]"
            ]
          },
          "metadata": {
            "tags": []
          },
          "execution_count": 92
        }
      ]
    },
    {
      "cell_type": "code",
      "metadata": {
        "colab": {
          "base_uri": "https://localhost:8080/"
        },
        "id": "isuLtPMMDieg",
        "outputId": "93947d8e-1d20-4285-aee7-9571eb3920e0"
      },
      "source": [
        "list_ex[:6]"
      ],
      "execution_count": 93,
      "outputs": [
        {
          "output_type": "execute_result",
          "data": {
            "text/plain": [
              "[1, 2, 3, 5, 6, 8]"
            ]
          },
          "metadata": {
            "tags": []
          },
          "execution_count": 93
        }
      ]
    },
    {
      "cell_type": "markdown",
      "metadata": {
        "id": "s_Pg0AxnEHIo"
      },
      "source": [
        "[จุดเริ่มต้น:จุดสุดท้ายขอบเขต:step]"
      ]
    },
    {
      "cell_type": "code",
      "metadata": {
        "colab": {
          "base_uri": "https://localhost:8080/"
        },
        "id": "IbWdc1lfEV5o",
        "outputId": "8c359505-5d7d-4a5d-841a-560589ef76fe"
      },
      "source": [
        "list_ex"
      ],
      "execution_count": 94,
      "outputs": [
        {
          "output_type": "execute_result",
          "data": {
            "text/plain": [
              "[1, 2, 3, 5, 6, 8, -1, 20, 50, 0]"
            ]
          },
          "metadata": {
            "tags": []
          },
          "execution_count": 94
        }
      ]
    },
    {
      "cell_type": "code",
      "metadata": {
        "colab": {
          "base_uri": "https://localhost:8080/"
        },
        "id": "4MTY1mf5DmCp",
        "outputId": "70524713-9f60-4743-aed1-97f424ddd354"
      },
      "source": [
        "list_ex[::2]"
      ],
      "execution_count": 95,
      "outputs": [
        {
          "output_type": "execute_result",
          "data": {
            "text/plain": [
              "[1, 3, 6, -1, 50]"
            ]
          },
          "metadata": {
            "tags": []
          },
          "execution_count": 95
        }
      ]
    },
    {
      "cell_type": "code",
      "metadata": {
        "colab": {
          "base_uri": "https://localhost:8080/"
        },
        "id": "hlKRW--jEEVw",
        "outputId": "723e5a6c-189e-46f2-f3aa-d4ddc49dd0e5"
      },
      "source": [
        "list_ex[::-1] # การกลับ list"
      ],
      "execution_count": 96,
      "outputs": [
        {
          "output_type": "execute_result",
          "data": {
            "text/plain": [
              "[0, 50, 20, -1, 8, 6, 5, 3, 2, 1]"
            ]
          },
          "metadata": {
            "tags": []
          },
          "execution_count": 96
        }
      ]
    },
    {
      "cell_type": "code",
      "metadata": {
        "colab": {
          "base_uri": "https://localhost:8080/",
          "height": 0
        },
        "id": "PvEwHk1QEqYC",
        "outputId": "ecdfae20-7453-4b1c-e4d1-550c12f55cc7"
      },
      "source": [
        "a"
      ],
      "execution_count": 97,
      "outputs": [
        {
          "output_type": "execute_result",
          "data": {
            "application/vnd.google.colaboratory.intrinsic+json": {
              "type": "string"
            },
            "text/plain": [
              "'Stat KKU'"
            ]
          },
          "metadata": {
            "tags": []
          },
          "execution_count": 97
        }
      ]
    },
    {
      "cell_type": "code",
      "metadata": {
        "colab": {
          "base_uri": "https://localhost:8080/",
          "height": 0
        },
        "id": "9Rp5oQDrE5ei",
        "outputId": "b80edab6-78b8-4e1c-bd03-c9670e208b36"
      },
      "source": [
        "a[5:]"
      ],
      "execution_count": 98,
      "outputs": [
        {
          "output_type": "execute_result",
          "data": {
            "application/vnd.google.colaboratory.intrinsic+json": {
              "type": "string"
            },
            "text/plain": [
              "'KKU'"
            ]
          },
          "metadata": {
            "tags": []
          },
          "execution_count": 98
        }
      ]
    },
    {
      "cell_type": "code",
      "metadata": {
        "colab": {
          "base_uri": "https://localhost:8080/",
          "height": 0
        },
        "id": "yw1KHlrgGEKp",
        "outputId": "920be483-912c-496e-b966-fbfaf70cc3fd"
      },
      "source": [
        "a[5::]"
      ],
      "execution_count": 99,
      "outputs": [
        {
          "output_type": "execute_result",
          "data": {
            "application/vnd.google.colaboratory.intrinsic+json": {
              "type": "string"
            },
            "text/plain": [
              "'KKU'"
            ]
          },
          "metadata": {
            "tags": []
          },
          "execution_count": 99
        }
      ]
    },
    {
      "cell_type": "code",
      "metadata": {
        "colab": {
          "base_uri": "https://localhost:8080/",
          "height": 0
        },
        "id": "grzllirTFBVV",
        "outputId": "df9ce457-4d15-417c-d85b-49a794ecbc5c"
      },
      "source": [
        "a[-3:]"
      ],
      "execution_count": 100,
      "outputs": [
        {
          "output_type": "execute_result",
          "data": {
            "application/vnd.google.colaboratory.intrinsic+json": {
              "type": "string"
            },
            "text/plain": [
              "'KKU'"
            ]
          },
          "metadata": {
            "tags": []
          },
          "execution_count": 100
        }
      ]
    },
    {
      "cell_type": "code",
      "metadata": {
        "colab": {
          "base_uri": "https://localhost:8080/",
          "height": 0
        },
        "id": "cFFk0CF2GDEf",
        "outputId": "0c3acc33-ff59-4d25-e5f6-4c5c460693fb"
      },
      "source": [
        "a[5:8]"
      ],
      "execution_count": 101,
      "outputs": [
        {
          "output_type": "execute_result",
          "data": {
            "application/vnd.google.colaboratory.intrinsic+json": {
              "type": "string"
            },
            "text/plain": [
              "'KKU'"
            ]
          },
          "metadata": {
            "tags": []
          },
          "execution_count": 101
        }
      ]
    },
    {
      "cell_type": "markdown",
      "metadata": {
        "id": "3JkKv-dnGsPK"
      },
      "source": [
        "### list + list"
      ]
    },
    {
      "cell_type": "code",
      "metadata": {
        "colab": {
          "base_uri": "https://localhost:8080/"
        },
        "id": "F07WY9t_GHOh",
        "outputId": "2788498c-da05-4e45-9526-59e21d4b21f8"
      },
      "source": [
        "print(list_a)\n",
        "print(list_b)"
      ],
      "execution_count": 102,
      "outputs": [
        {
          "output_type": "stream",
          "text": [
            "[1, 2, 0.2, 'abs']\n",
            "[2, 'xyz', [1, 2, 0.2, 'abs'], [1, 2, 0.0]]\n"
          ],
          "name": "stdout"
        }
      ]
    },
    {
      "cell_type": "code",
      "metadata": {
        "colab": {
          "base_uri": "https://localhost:8080/"
        },
        "id": "e4leHsqYG7W5",
        "outputId": "bf0a197b-a407-4d86-920f-98818f77fc7f"
      },
      "source": [
        "list_a + list_b"
      ],
      "execution_count": 103,
      "outputs": [
        {
          "output_type": "execute_result",
          "data": {
            "text/plain": [
              "[1, 2, 0.2, 'abs', 2, 'xyz', [1, 2, 0.2, 'abs'], [1, 2, 0.0]]"
            ]
          },
          "metadata": {
            "tags": []
          },
          "execution_count": 103
        }
      ]
    },
    {
      "cell_type": "code",
      "metadata": {
        "colab": {
          "base_uri": "https://localhost:8080/"
        },
        "id": "3fNbvcmxHH_r",
        "outputId": "f6824ec5-8de6-4e18-a829-320d4cc35427"
      },
      "source": [
        "list_b + list_a"
      ],
      "execution_count": 104,
      "outputs": [
        {
          "output_type": "execute_result",
          "data": {
            "text/plain": [
              "[2, 'xyz', [1, 2, 0.2, 'abs'], [1, 2, 0.0], 1, 2, 0.2, 'abs']"
            ]
          },
          "metadata": {
            "tags": []
          },
          "execution_count": 104
        }
      ]
    },
    {
      "cell_type": "markdown",
      "metadata": {
        "id": "0ULwdMN_LPTd"
      },
      "source": [
        "format string"
      ]
    },
    {
      "cell_type": "markdown",
      "metadata": {
        "id": "jVnN4CrwLxMO"
      },
      "source": [
        "\n",
        "\n",
        "```python\n",
        "f 'string{ตัวแปร}'\n",
        "```\n",
        "\n"
      ]
    },
    {
      "cell_type": "markdown",
      "metadata": {
        "id": "bofs_OFWMN2m"
      },
      "source": [
        "{} เรียกว่า curly bracket"
      ]
    },
    {
      "cell_type": "code",
      "metadata": {
        "colab": {
          "base_uri": "https://localhost:8080/",
          "height": 0
        },
        "id": "I6mJy17nLTt3",
        "outputId": "37e6dbd9-87a5-4698-c59c-6bf938a4d055"
      },
      "source": [
        "f'ตัวแปร list_a มีค่าคือ {list_a}'"
      ],
      "execution_count": 105,
      "outputs": [
        {
          "output_type": "execute_result",
          "data": {
            "application/vnd.google.colaboratory.intrinsic+json": {
              "type": "string"
            },
            "text/plain": [
              "\"ตัวแปร list_a มีค่าคือ [1, 2, 0.2, 'abs']\""
            ]
          },
          "metadata": {
            "tags": []
          },
          "execution_count": 105
        }
      ]
    },
    {
      "cell_type": "markdown",
      "metadata": {
        "id": "_BtAdT2sHf52"
      },
      "source": [
        "# Loop\n",
        "\n"
      ]
    },
    {
      "cell_type": "markdown",
      "metadata": {
        "id": "6kpXegKmKWDi"
      },
      "source": [
        "\n",
        "\n",
        "\n",
        "```\n",
        "for ตัวแปรที่จะรับค่าจากลิสต์ in ลิสต์ที่จะนำมาวนลูป:\n",
        "     \n",
        "     do something\n",
        "\n",
        "```\n",
        "\n",
        "\n"
      ]
    },
    {
      "cell_type": "code",
      "metadata": {
        "colab": {
          "base_uri": "https://localhost:8080/"
        },
        "id": "t2VIOYFFJmI5",
        "outputId": "b541bf43-08b2-4690-bea6-0ca25c8e96cd"
      },
      "source": [
        "for i in [1,2,3,4,5]:\n",
        "    print(i+1)\n",
        "\n"
      ],
      "execution_count": 106,
      "outputs": [
        {
          "output_type": "stream",
          "text": [
            "2\n",
            "3\n",
            "4\n",
            "5\n",
            "6\n"
          ],
          "name": "stdout"
        }
      ]
    },
    {
      "cell_type": "code",
      "metadata": {
        "colab": {
          "base_uri": "https://localhost:8080/"
        },
        "id": "UAZnvTuTMbjI",
        "outputId": "36075b4f-b8fa-43a3-fb10-8d04e87d9252"
      },
      "source": [
        "for x in [1,2,3,4,5]:\n",
        "  print(f'ค่าตัวแปร x คือ {x} และ x+2={x+2}')"
      ],
      "execution_count": 107,
      "outputs": [
        {
          "output_type": "stream",
          "text": [
            "ค่าตัวแปร x คือ 1 และ x+2=3\n",
            "ค่าตัวแปร x คือ 2 และ x+2=4\n",
            "ค่าตัวแปร x คือ 3 และ x+2=5\n",
            "ค่าตัวแปร x คือ 4 และ x+2=6\n",
            "ค่าตัวแปร x คือ 5 และ x+2=7\n"
          ],
          "name": "stdout"
        }
      ]
    },
    {
      "cell_type": "code",
      "metadata": {
        "colab": {
          "base_uri": "https://localhost:8080/"
        },
        "id": "O3tPYsujMyW-",
        "outputId": "08d6dc9a-b629-4d4d-d9dc-b51fff0baf7f"
      },
      "source": [
        "list5=[1,2,3,4,5]\n",
        "for x in list5:\n",
        "  print(f'ค่าตัวแปรx คือ {x} และ x+2={x+2}')"
      ],
      "execution_count": 108,
      "outputs": [
        {
          "output_type": "stream",
          "text": [
            "ค่าตัวแปรx คือ 1 และ x+2=3\n",
            "ค่าตัวแปรx คือ 2 และ x+2=4\n",
            "ค่าตัวแปรx คือ 3 และ x+2=5\n",
            "ค่าตัวแปรx คือ 4 และ x+2=6\n",
            "ค่าตัวแปรx คือ 5 และ x+2=7\n"
          ],
          "name": "stdout"
        }
      ]
    },
    {
      "cell_type": "code",
      "metadata": {
        "colab": {
          "base_uri": "https://localhost:8080/"
        },
        "id": "Hzed3ATANFhZ",
        "outputId": "aad4d6fb-fb25-4207-dd99-3165f5cc1130"
      },
      "source": [
        "list(range(10))"
      ],
      "execution_count": 109,
      "outputs": [
        {
          "output_type": "execute_result",
          "data": {
            "text/plain": [
              "[0, 1, 2, 3, 4, 5, 6, 7, 8, 9]"
            ]
          },
          "metadata": {
            "tags": []
          },
          "execution_count": 109
        }
      ]
    },
    {
      "cell_type": "code",
      "metadata": {
        "colab": {
          "base_uri": "https://localhost:8080/"
        },
        "id": "kYvD4Xh-NVyq",
        "outputId": "107d1aec-421a-4475-dcac-e5f1053cb9e1"
      },
      "source": [
        "for i in range(2,7):\n",
        "  print(i)"
      ],
      "execution_count": 110,
      "outputs": [
        {
          "output_type": "stream",
          "text": [
            "2\n",
            "3\n",
            "4\n",
            "5\n",
            "6\n"
          ],
          "name": "stdout"
        }
      ]
    },
    {
      "cell_type": "code",
      "metadata": {
        "colab": {
          "base_uri": "https://localhost:8080/"
        },
        "id": "sElebSefN05m",
        "outputId": "52ff513d-a3b9-4909-c784-4cea7fcbfc65"
      },
      "source": [
        "for i in range(2,7,2):\n",
        "  print(i)"
      ],
      "execution_count": 111,
      "outputs": [
        {
          "output_type": "stream",
          "text": [
            "2\n",
            "4\n",
            "6\n"
          ],
          "name": "stdout"
        }
      ]
    },
    {
      "cell_type": "code",
      "metadata": {
        "colab": {
          "base_uri": "https://localhost:8080/"
        },
        "id": "a0aPd4WIORVK",
        "outputId": "72946a8b-1052-4097-d512-cc2c0fcb1de4"
      },
      "source": [
        "for i in range(5):\n",
        "  print('hahaha')"
      ],
      "execution_count": 112,
      "outputs": [
        {
          "output_type": "stream",
          "text": [
            "hahaha\n",
            "hahaha\n",
            "hahaha\n",
            "hahaha\n",
            "hahaha\n"
          ],
          "name": "stdout"
        }
      ]
    },
    {
      "cell_type": "code",
      "metadata": {
        "colab": {
          "base_uri": "https://localhost:8080/"
        },
        "id": "rZhgUCDrOjZk",
        "outputId": "b5f98ad2-e976-45a4-efcb-3d405488592c"
      },
      "source": [
        "for i in range(5):\n",
        "  print('hahaha')\n",
        "  x = i + 3\n",
        "  print(f'i={i} x={x}')"
      ],
      "execution_count": 113,
      "outputs": [
        {
          "output_type": "stream",
          "text": [
            "hahaha\n",
            "i=0 x=3\n",
            "hahaha\n",
            "i=1 x=4\n",
            "hahaha\n",
            "i=2 x=5\n",
            "hahaha\n",
            "i=3 x=6\n",
            "hahaha\n",
            "i=4 x=7\n"
          ],
          "name": "stdout"
        }
      ]
    },
    {
      "cell_type": "markdown",
      "metadata": {
        "id": "i0Y3hi1MPCOM"
      },
      "source": [
        "## **Nested loop**"
      ]
    },
    {
      "cell_type": "code",
      "metadata": {
        "colab": {
          "base_uri": "https://localhost:8080/"
        },
        "id": "FKAvmJvHPAT8",
        "outputId": "56f4e013-bbd9-4d9d-c3dc-8a22700393aa"
      },
      "source": [
        "for i in range(3):\n",
        "  print(f'now i = {i}')\n",
        "  print('start j loop')\n",
        "  for j in range(4):\n",
        "    print(f'i ={i}  j ={j}  i+j ={i+j}')\n",
        "  print('end j loop')"
      ],
      "execution_count": 114,
      "outputs": [
        {
          "output_type": "stream",
          "text": [
            "now i = 0\n",
            "start j loop\n",
            "i =0  j =0  i+j =0\n",
            "i =0  j =1  i+j =1\n",
            "i =0  j =2  i+j =2\n",
            "i =0  j =3  i+j =3\n",
            "end j loop\n",
            "now i = 1\n",
            "start j loop\n",
            "i =1  j =0  i+j =1\n",
            "i =1  j =1  i+j =2\n",
            "i =1  j =2  i+j =3\n",
            "i =1  j =3  i+j =4\n",
            "end j loop\n",
            "now i = 2\n",
            "start j loop\n",
            "i =2  j =0  i+j =2\n",
            "i =2  j =1  i+j =3\n",
            "i =2  j =2  i+j =4\n",
            "i =2  j =3  i+j =5\n",
            "end j loop\n"
          ],
          "name": "stdout"
        }
      ]
    },
    {
      "cell_type": "markdown",
      "metadata": {
        "id": "W2mRnIrtHtsl"
      },
      "source": [
        "# Condition (if statement)\n",
        "\n",
        "\n",
        "\n"
      ]
    },
    {
      "cell_type": "markdown",
      "metadata": {
        "id": "F-EuJxvSFknW"
      },
      "source": [
        "```python\n",
        "if เงื่อนไขที่จะตรวจสอบ  (==,!=,<,>,<=,>=) :\n",
        "   ถ้าเงือนไขเป็นจริง ทำงาน 1\n",
        "   ถ้าเงือนไขเป็นจริง ทำงาน 2\n",
        "```\n",
        "\n"
      ]
    },
    {
      "cell_type": "code",
      "metadata": {
        "id": "PlavVtpmF6LC",
        "outputId": "50473bb2-d87b-4599-885d-2f0a22918392",
        "colab": {
          "base_uri": "https://localhost:8080/"
        }
      },
      "source": [
        "stringx = 'sajkajksakjsdfhakjshfgdistrdffgj'\n",
        "\n",
        "if len(stringx) > 30 :\n",
        "     print(f'{stringx} is longer that 30 characters')"
      ],
      "execution_count": 120,
      "outputs": [
        {
          "output_type": "stream",
          "text": [
            "sajkajksakjsdfhakjshfgdistrdffgj is longer that 30 characters\n"
          ],
          "name": "stdout"
        }
      ]
    },
    {
      "cell_type": "code",
      "metadata": {
        "id": "2ORM5rUVHG5i"
      },
      "source": [
        "stringx = 'sajkajksakjsdfhakjshfgdistrdffgj'\n",
        "\n",
        "if len(stringx) > 100 :\n",
        "     print(f'{stringx} is longer that 30 characters')"
      ],
      "execution_count": 121,
      "outputs": []
    },
    {
      "cell_type": "markdown",
      "metadata": {
        "id": "O8dJTEeqHcT4"
      },
      "source": [
        "```python\n",
        "if เงื่อนไขที่จะตรวจสอบ  (==,!=,<,>,<=,>=) :\n",
        "   ถ้าเงือนไขเป็นจริง ทำงาน 1\n",
        "   ถ้าเงือนไขเป็นจริง ทำงาน 2\n",
        "else: #ตรวจสอบเงื่อนไขข้างบนแล้วไม่เป็นจริง\n",
        "   ทำงานที่ x   \n",
        "```"
      ]
    },
    {
      "cell_type": "code",
      "metadata": {
        "id": "vjjCKItoHcAV",
        "outputId": "fe9bf426-3270-4a34-9067-6a7ff19726eb",
        "colab": {
          "base_uri": "https://localhost:8080/"
        }
      },
      "source": [
        "stringx = 'sajkajksakjsdfhakjshfgdistrdffgj'\n",
        "\n",
        "if len(stringx) > 100 :\n",
        "     print(f'{stringx} is longer that 30 characters')\n",
        "else:\n",
        "  print(f'{stringx} in {len(stringx)} character long')     "
      ],
      "execution_count": 122,
      "outputs": [
        {
          "output_type": "stream",
          "text": [
            "sajkajksakjsdfhakjshfgdistrdffgj in 32 character long\n"
          ],
          "name": "stdout"
        }
      ]
    },
    {
      "cell_type": "markdown",
      "metadata": {
        "id": "l_ZCTDrVJHUh"
      },
      "source": [
        "```python\n",
        "if เงื่อนไขที่จะตรวจสอบ  (โดยใช้สัญลักษณ์==,!=,<,>,<=,>=) :\n",
        "   ถ้าเงือนไขเป็นจริง ทำงาน 1\n",
        "   ถ้าเงือนไขเป็นจริง ทำงาน 2\n",
        "elif เงื่อนไขที่จะตรวจสอบต่อไปถ้าเงื่อนไขข้างบนไม่เป็นจริง:\n",
        "   ถ้าเงือนไขเป็นจริง ทำงาน a1\n",
        "   ถ้าเงือนไขเป็นจริง ทำงาน a2\n",
        "elif เงื่อนไขที่จะตรวจสอบต่อไปถ้าเงื่อนไขข้างบนไม่เป็นจริง:\n",
        "   ถ้าเงือนไขเป็นจริง ทำงาน b1\n",
        "   ถ้าเงือนไขเป็นจริง ทำงาน b2\n",
        "else: #ตรวจสอบเงื่อนไขข้างบนแล้วไม่เป็นจริง\n",
        "   ทำงานที่ x   \n",
        "```"
      ]
    },
    {
      "cell_type": "code",
      "metadata": {
        "id": "yuZiZ3SxLE_1",
        "outputId": "14c2c0bb-c094-41a4-c3f0-7aab1812b7bc",
        "colab": {
          "base_uri": "https://localhost:8080/"
        }
      },
      "source": [
        "password = '12345'\n",
        "\n",
        "input_pass = '123sf'\n",
        "if input_pass == password:\n",
        "  print('welcome!')\n",
        "elif len(input_pass) > len(password):\n",
        "  print( ' Too long, try again! ')\n",
        "elif len(input_pass) < len(password):\n",
        "  print( ' Too long, try again! ')  \n",
        "else:\n",
        "  print('Wrong password, try again')    "
      ],
      "execution_count": 126,
      "outputs": [
        {
          "output_type": "stream",
          "text": [
            "Wrong password, try again\n"
          ],
          "name": "stdout"
        }
      ]
    },
    {
      "cell_type": "markdown",
      "metadata": {
        "id": "oP5uyC_vK6HA"
      },
      "source": [
        "Quiz 1 หา min"
      ]
    },
    {
      "cell_type": "code",
      "metadata": {
        "id": "zqn5BNpzNgHn"
      },
      "source": [
        "list_ex = [1,5,9,-19,-2,0] # หาค่าน้อยที่สุดใน list_ex โดยไม่ใช้ function min"
      ],
      "execution_count": null,
      "outputs": []
    },
    {
      "cell_type": "code",
      "metadata": {
        "id": "nLT4EfMNN8fn",
        "outputId": "d71b0f2d-80e2-4104-823b-36ac21432e20",
        "colab": {
          "base_uri": "https://localhost:8080/"
        }
      },
      "source": [
        "list_ex = [1,5,9,-19,-2,0]\n",
        "if len(list_ex) < 0 :\n",
        "  print(f'{list_ex} is the lowest value ')\n",
        "else:\n",
        "  print(f'{list_ex} in {len(list_ex)} min ')    "
      ],
      "execution_count": 129,
      "outputs": [
        {
          "output_type": "stream",
          "text": [
            "[1, 5, 9, -19, -2, 0] in 6 min \n"
          ],
          "name": "stdout"
        }
      ]
    },
    {
      "cell_type": "markdown",
      "metadata": {
        "id": "EB2M7FoLK_06"
      },
      "source": [
        "Quiz 2 ตัดเกรด"
      ]
    },
    {
      "cell_type": "code",
      "metadata": {
        "id": "BuyAJFiZJ5-3"
      },
      "source": [
        "score = [49,65,70,95,82,55,89,20,77,77,81,59,10] #ตัดเกรด คะแนน"
      ],
      "execution_count": null,
      "outputs": []
    },
    {
      "cell_type": "markdown",
      "metadata": {
        "id": "tLD5TsGNFaeN"
      },
      "source": [
        "# function"
      ]
    },
    {
      "cell_type": "code",
      "metadata": {
        "id": "uZZtFwyBHKgw"
      },
      "source": [
        ""
      ],
      "execution_count": 114,
      "outputs": []
    }
  ]
}